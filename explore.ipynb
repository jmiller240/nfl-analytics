{
 "cells": [
  {
   "cell_type": "code",
   "execution_count": 28,
   "id": "4c97f72b",
   "metadata": {},
   "outputs": [],
   "source": [
    "import pandas as pd\n",
    "import numpy as np\n",
    "import nfl_data_py as nfl\n",
    "import plotly.express as px\n",
    "import plotly.graph_objects as go\n",
    "import seaborn as sns\n",
    "import matplotlib.pyplot as plt"
   ]
  },
  {
   "cell_type": "code",
   "execution_count": 2,
   "id": "00c326e5",
   "metadata": {},
   "outputs": [
    {
     "name": "stdout",
     "output_type": "stream",
     "text": [
      "2025 done.\n",
      "Downcasting floats.\n"
     ]
    }
   ],
   "source": [
    "''' Import Data '''\n",
    "\n",
    "pbp_data: pd.DataFrame = nfl.import_pbp_data([2025], downcast=True)\n",
    "\n",
    "pbp_data = pbp_data.loc[pbp_data['season_type'] == 'REG', :]"
   ]
  },
  {
   "cell_type": "code",
   "execution_count": 14,
   "id": "1f8279a3",
   "metadata": {},
   "outputs": [],
   "source": [
    "''' Some more fields '''\n",
    "\n",
    "## Success\n",
    "pbp_data['% ydstogo'] = pbp_data['yards_gained'] / pbp_data['ydstogo']\n",
    "\n",
    "pbp_data['Successful Play'] = (\n",
    "    ((pbp_data['down'] == 1) & (pbp_data['% ydstogo'] >= 0.4)) |\n",
    "    ((pbp_data['down'] == 2) & (pbp_data['% ydstogo'] >= 0.6)) |\n",
    "    (pbp_data['first_down'] == 1) |\n",
    "    (pbp_data['touchdown'] == 1)\n",
    ")\n",
    "\n",
    "## Snaps\n",
    "pbp_data['Snap'] = ((pbp_data['pass'] == 1) | (pbp_data['rush']) == 1 | (pbp_data['special'] == 1))\n",
    "\n",
    "## Yard Thresholds\n",
    "def distance_range(down, yds):\n",
    "       \n",
    "    down_s = ''\n",
    "    match down:\n",
    "        case 1:\n",
    "            return '1st'\n",
    "        case 2:\n",
    "            down_s = '2nd'\n",
    "        case 3:\n",
    "            down_s = '3rd'\n",
    "        case 4:\n",
    "            down_s = '4th'\n",
    "        case default:\n",
    "            return ''\n",
    "        \n",
    "    yds_range = ''\n",
    "    if yds <= 2:\n",
    "        yds_range = 'Short'\n",
    "    elif yds <= 6:\n",
    "        yds_range = 'Medium'\n",
    "    else:\n",
    "        yds_range = 'Long'\n",
    "\n",
    "    return f'{down_s} & {yds_range}'\n",
    "    \n",
    "pbp_data['Down & Distance'] = pbp_data.apply(lambda x: distance_range(x['down'], x['ydstogo']), axis=1)\n"
   ]
  },
  {
   "cell_type": "code",
   "execution_count": 15,
   "id": "298a39da",
   "metadata": {},
   "outputs": [
    {
     "name": "stdout",
     "output_type": "stream",
     "text": [
      "Top runners: ['00-0036223', '00-0037248', '00-0036973', '00-0038542', '00-0036997', '00-0037840', '00-0036158', '00-0037525', '00-0035261', '00-0034844', '00-0032764']\n",
      "   rusher_player_id         Name  Games  Attempts  Yards  TDs  FirstDowns  Successes  Yds / Att  Success Rate  1D Rate  TD Rate\n",
      "0        00-0036223     J.Taylor      3        60  338.0  3.0        13.0         33       5.63         55.00    21.67     5.00\n",
      "1        00-0037248       J.Cook      3        53  284.0  4.0        15.0         33       5.36         62.26    28.30     7.55\n",
      "2        00-0036973    T.Etienne      3        46  270.0  1.0         8.0         21       5.87         45.65    17.39     2.17\n",
      "3        00-0038542   B.Robinson      3        47  239.0  0.0         9.0         26       5.09         55.32    19.15     0.00\n",
      "4        00-0036997   J.Williams      3        43  227.0  3.0        14.0         29       5.28         67.44    32.56     6.98\n",
      "5        00-0037840   K.Williams      3        55  226.0  1.0        13.0         30       4.11         54.55    23.64     1.82\n",
      "6        00-0036158    J.Dobbins      3        41  222.0  3.0        10.0         22       5.41         53.66    24.39     7.32\n",
      "7        00-0037525      J.Mason      3        40  214.0  2.0        12.0         23       5.35         57.50    30.00     5.00\n",
      "8        00-0035261    T.Pollard      3        54  197.0  1.0        13.0         27       3.65         50.00    24.07     1.85\n",
      "9        00-0034844    S.Barkley      3        58  194.0  2.0        12.0         27       3.34         46.55    20.69     3.45\n",
      "10       00-0032764      D.Henry      2        29  192.0  2.0         6.0         11       6.62         37.93    20.69     6.90\n",
      "11       00-0033906     A.Kamara      3        50  186.0  1.0        10.0         25       3.72         50.00    20.00     2.00\n",
      "12       00-0035700     J.Jacobs      3        58  180.0  2.0        10.0         26       3.10         44.83    17.24     3.45\n",
      "13       00-0033280  C.McCaffrey      3        52  176.0  0.0        13.0         25       3.38         48.08    25.00     0.00\n",
      "14       00-0039361     B.Irving      3        56  174.0  0.0         5.0         19       3.11         33.93     8.93     0.00\n",
      "15       00-0036555    C.Hubbard      3        44  168.0  0.0         9.0         22       3.82         50.00    20.45     0.00\n",
      "16       00-0038134     K.Walker      3        39  163.0  3.0        12.0         21       4.18         53.85    30.77     7.69\n",
      "17       00-0038120       B.Hall      3        38  157.0  0.0        10.0         15       4.13         39.47    26.32     0.00\n",
      "18       00-0040784    Q.Judkins      2        28  155.0  1.0         8.0         17       5.54         60.71    28.57     3.57\n",
      "19       00-0036275      D.Swift      3        42  149.0  1.0        10.0         20       3.55         47.62    23.81     2.38\n",
      "20       00-0039040     D.Achane      3        30  147.0  0.0         3.0         15       4.90         50.00    10.00     0.00\n",
      "21       00-0040122     A.Jeanty      3        48  144.0  1.0         8.0         18       3.00         37.50    16.67     2.08\n",
      "22       00-0040666    O.Hampton      3        42  142.0  1.0        10.0         18       3.38         42.86    23.81     2.38\n",
      "23       00-0034791      N.Chubb      3        34  141.0  1.0         7.0         16       4.15         47.06    20.59     2.94\n",
      "24       00-0037228     J.Warren      3        43  132.0  0.0        11.0         23       3.07         53.49    25.58     0.00\n"
     ]
    }
   ],
   "source": [
    "''' Rushing Data '''\n",
    "\n",
    "run_data = pbp_data.loc[pbp_data['play_type'] == 'run', :].copy()\n",
    "\n",
    "runners = run_data.groupby('rusher_player_id').aggregate(\n",
    "    Name=('rusher_player_name', 'first'),\n",
    "    Games=('game_id', 'nunique'),\n",
    "    Attempts=('rusher_player_id', 'size'),\n",
    "    Yards=('yards_gained', 'sum'),\n",
    "    TDs=('touchdown', 'sum'),\n",
    "    FirstDowns=('first_down', 'sum'),\n",
    "    Successes=('Successful Play', 'sum')\n",
    ").reset_index()\n",
    "runners['Yds / Att'] = round(runners['Yards'] / runners['Attempts'], 2)\n",
    "runners['Success Rate'] = round((runners['Successes'] / runners['Attempts']) * 100, 2)\n",
    "runners['1D Rate'] = round((runners['FirstDowns'] / runners['Attempts']) * 100, 2)\n",
    "runners['TD Rate'] = round((runners['TDs'] / runners['Attempts']) * 100, 2)\n",
    "\n",
    "runners = runners.sort_values(by='Yards', ascending=False).reset_index(drop=True)\n",
    "\n",
    "top_10_runners = runners.loc[:10, 'rusher_player_id'].tolist()\n",
    "\n",
    "print(f'Top runners: {top_10_runners}')\n",
    "print(runners.head(25).to_string())"
   ]
  },
  {
   "cell_type": "code",
   "execution_count": 46,
   "id": "cdf32c89",
   "metadata": {},
   "outputs": [
    {
     "data": {
      "application/vnd.plotly.v1+json": {
       "config": {
        "plotlyServerURL": "https://plot.ly"
       },
       "data": [
        {
         "customdata": {
          "bdata": "AAAAAAAATkAAAAAAACB1QAAAAAAAgEpAAAAAAADAcUAAAAAAAABHQAAAAAAA4HBAAAAAAACAR0AAAAAAAOBtQAAAAAAAgEVAAAAAAABgbEAAAAAAAIBLQAAAAAAAQGxAAAAAAACAREAAAAAAAMBrQAAAAAAAAERAAAAAAADAakAAAAAAAABLQAAAAAAAoGhAAAAAAAAATUAAAAAAAEBoQAAAAAAAAD1AAAAAAAAAaEAAAAAAAABJQAAAAAAAQGdAAAAAAAAATUAAAAAAAIBmQAAAAAAAAEpAAAAAAAAAZkAAAAAAAABMQAAAAAAAwGVAAAAAAAAARkAAAAAAAABlQAAAAAAAgENAAAAAAABgZEAAAAAAAABDQAAAAAAAoGNAAAAAAAAAPEAAAAAAAGBjQAAAAAAAAEVAAAAAAACgYkAAAAAAAAA+QAAAAAAAYGJAAAAAAAAASEAAAAAAAABiQAAAAAAAAEVAAAAAAADAYUAAAAAAAABBQAAAAAAAoGFAAAAAAACARUAAAAAAAIBgQAAAAAAAAC5AAAAAAAAAYEAAAAAAAAA1QAAAAAAAQF9AAAAAAAAANkAAAAAAAEBfQAAAAAAAADpAAAAAAADAXkAAAAAAAAA0QAAAAAAAAF5AAAAAAAAAJEAAAAAAAIBdQAAAAAAAADVAAAAAAABAXEAAAAAAAAAzQAAAAAAAQFtAAAAAAAAAMkAAAAAAAEBbQAAAAAAAADtAAAAAAAAAWkAAAAAAAAA3QAAAAAAAgFlAAAAAAAAALEAAAAAAAMBYQAAAAAAAACxAAAAAAADAWEAAAAAAAAAxQAAAAAAAQFhAAAAAAAAAQEAAAAAAAMBXQAAAAAAAADBAAAAAAACAV0AAAAAAAIBHQAAAAAAAQFdAAAAAAAAAOUAAAAAAAABXQAAAAAAAADFAAAAAAADAVkAAAAAAAAAyQAAAAAAAgFZAAAAAAAAAN0AAAAAAAEBWQAAAAAAAAC5AAAAAAAAAVkAAAAAAAAA2QAAAAAAAgFRAAAAAAAAAJkAAAAAAAIBUQAAAAAAAADdAAAAAAABAVEAAAAAAAAAqQAAAAAAAAFRAAAAAAAAAKkAAAAAAAMBSQAAAAAAAADFAAAAAAADAUkAAAAAAAAAxQAAAAAAAgFJAAAAAAAAAMEAAAAAAAIBSQAAAAAAAACRAAAAAAACAUUAAAAAAAAA2QAAAAAAAAFFAAAAAAAAAM0AAAAAAAEBQQAAAAAAAAC5AAAAAAACATkAAAAAAAAAxQAAAAAAAgE1AAAAAAAAAKkAAAAAAAABNQAAAAAAAADtAAAAAAACATEAAAAAAAAAxQAAAAAAAgEtAAAAAAAAAMEAAAAAAAIBLQAAAAAAAACRAAAAAAACASkAAAAAAAAA0QAAAAAAAgElAAAAAAAAAKEAAAAAAAABJQAAAAAAAAC5AAAAAAAAASUAAAAAAAAAqQAAAAAAAAEdAAAAAAAAAKkAAAAAAAABGQAAAAAAAACpAAAAAAAAARkAAAAAAAAAoQAAAAAAAAEZAAAAAAAAALEAAAAAAAIBFQAAAAAAAACZAAAAAAACAQ0AAAAAAAAAoQAAAAAAAgENAAAAAAAAAMUAAAAAAAIBCQAAAAAAAACRAAAAAAAAAO0AAAAAAAAAkQAAAAAAAADpAAAAAAAAAJEAAAAAAAAA5QA==",
          "dtype": "f8",
          "shape": "79, 2"
         },
         "hovertemplate": "Success Rate=%{x}<br>Yds / Att=%{y}<br>Name=%{text}<br>Attempts=%{customdata[0]}<br>Yards=%{customdata[1]}<extra></extra>",
         "legendgroup": "",
         "marker": {
          "color": "#636efa",
          "symbol": "circle"
         },
         "mode": "markers+text",
         "name": "",
         "orientation": "v",
         "showlegend": false,
         "text": [
          "J.Taylor",
          "J.Cook",
          "T.Etienne",
          "B.Robinson",
          "J.Williams",
          "K.Williams",
          "J.Dobbins",
          "J.Mason",
          "T.Pollard",
          "S.Barkley",
          "D.Henry",
          "A.Kamara",
          "J.Jacobs",
          "C.McCaffrey",
          "B.Irving",
          "C.Hubbard",
          "K.Walker",
          "B.Hall",
          "Q.Judkins",
          "D.Swift",
          "D.Achane",
          "A.Jeanty",
          "O.Hampton",
          "N.Chubb",
          "J.Warren",
          "P.Mahomes",
          "T.Benson",
          "J.Croskey-Merritt",
          "J.Hurts",
          "J.Allen",
          "B.Mayfield",
          "J.Gibbs",
          "K.Murray",
          "M.Sanders",
          "T.Allgeier",
          "C.Skattebo",
          "B.Corum",
          "C.Williams",
          "J.Fields",
          "J.Conner",
          "R.Wilson",
          "C.Brown",
          "I.Pacheco",
          "R.White",
          "D.Maye",
          "R.Stevenson",
          "J.Daniels",
          "D.Montgomery",
          "C.Stroud",
          "K.Hunt",
          "R.Harvey",
          "J.Herbert",
          "B.Robinson",
          "B.Tuten",
          "B.Nix",
          "T.Taylor",
          "T.Tracy",
          "T.Henderson",
          "N.Harris",
          "K.Miller",
          "A.Gibson",
          "Z.Charbonnet",
          "D.Jones",
          "K.Gainwell",
          "S.Rattler",
          "R.Dowdle",
          "O.Gordon",
          "B.Allen",
          "A.Jones",
          "D.Giddens",
          "K.Monangai",
          "W.Marks",
          "A.Ekeler",
          "C.Rodriguez",
          "J.Ford",
          "D.Sampson",
          "G.Holani",
          "R.Davis",
          "Z.White"
         ],
         "textposition": "top center",
         "type": "scatter",
         "x": {
          "bdata": "AAAAAACAS0DhehSuRyFPQDMzMzMz00ZAKVyPwvWoS0Bcj8L1KNxQQGZmZmZmRktAFK5H4XrUSkAAAAAAAMBMQAAAAAAAAElAZmZmZmZGR0DXo3A9CvdCQAAAAAAAAElACtejcD1qRkAK16NwPQpIQNejcD0K90BAAAAAAAAASUDNzMzMzOxKQFyPwvUovENAexSuR+FaTkCPwvUoXM9HQAAAAAAAAElAAAAAAADAQkCuR+F6FG5FQEjhehSuh0dAH4XrUbi+SkAAAAAAAABUQArXo3A9qkBA7FG4HoULUUB7FK5H4TpTQAAAAAAAQFBAAAAAAACAVkDNzMzMzAxDQI/C9Shcr0dASOF6FK7HS0B7FK5H4XpPQArXo3A96kdAFK5H4XqkU0DD9ShcjxJQQD0K16NwLVBAAAAAAADgRUAAAAAAAABJQIXrUbgeBUFAAAAAAAAATkApXI/C9WhNQHsUrkfhqlBACtejcD3qR0B7FK5H4apQQAAAAAAAAElACtejcD26VkD2KFyPwhVKQIXrUbgexT5AzczMzMzsSkA9CtejcC1QQGZmZmZmllRAAAAAAADAQkAAAAAAAABOQAAAAAAAAElA7FG4HoVrQkB7FK5H4apVQNejcD0Kl0RAMzMzMzMTR0AfhetRuF5EQPYoXI/CpVFAAAAAAADgRUAAAAAAAABUQAAAAAAAAERAexSuR+GqUED2KFyPwlVHQDMzMzMzE0dAexSuR+E6Q0B7FK5H4TpDQAAAAAAAADlAUrgeheuRTECamZmZmblGQAAAAAAAAElAhetRuB6lQUAAAAAAAABJQAAAAAAAAERAAAAAAAAANEA=",
          "dtype": "f8"
         },
         "xaxis": "x",
         "y": {
          "bdata": "hetRuB6FFkBxPQrXo3AVQHsUrkfhehdAXI/C9ShcFEAfhetRuB4VQHE9CtejcBBApHA9CtejFUBmZmZmZmYVQDMzMzMzMw1AuB6F61G4CkB7FK5H4XoaQMP1KFyPwg1AzczMzMzMCEAK16NwPQoLQOF6FK5H4QhAj8L1KFyPDkC4HoXrUbgQQIXrUbgehRBAKVyPwvUoFkBmZmZmZmYMQJqZmZmZmRNAAAAAAAAACEAK16NwPQoLQJqZmZmZmRBAj8L1KFyPCECPwvUoXA8hQM3MzMzMzBdAuB6F61G4FkDsUbgehesSQAAAAAAAABhAmpmZmZmZJ0CF61G4HoUVQPYoXI/C9RZAPQrXo3A9GEDNzMzMzMwOQLgehetRuBFASOF6FK5HHEBI4XoUrkccQNejcD0K1xZAw/UoXI/CB0CF61G4HoUXQK5H4XoUrv8/cT0K16NwDUBmZmZmZmYVQAAAAAAAABRA9ihcj8L1DkB7FK5H4XoXQNejcD0K1w1AzczMzMzMHUApXI/C9SgMQJqZmZmZmRhAFK5H4XoUF0CkcD0K16MRQGZmZmZmZhFAexSuR+F6EkAAAAAAAAAcQLgehetRuAhAXI/C9ShcC0BI4XoUrkcQQMP1KFyPwgtA16NwPQrXEUDhehSuR+EAQOxRuB6F6wlAhetRuB6FC0AzMzMzMzMVQGZmZmZmZgRArkfhehSuEECkcD0K16MKQFK4HoXrUQxACtejcD0KC0AK16NwPQoLQFyPwvUoXA1Aj8L1KFyPCEBmZmZmZmYMQAAAAAAAAApAcT0K16NwAUCamZmZmZkFQM3MzMzMzARAAAAAAAAABEA=",
          "dtype": "f8"
         },
         "yaxis": "y"
        }
       ],
       "layout": {
        "legend": {
         "tracegroupgap": 0
        },
        "margin": {
         "t": 60
        },
        "template": {
         "data": {
          "bar": [
           {
            "error_x": {
             "color": "#2a3f5f"
            },
            "error_y": {
             "color": "#2a3f5f"
            },
            "marker": {
             "line": {
              "color": "#E5ECF6",
              "width": 0.5
             },
             "pattern": {
              "fillmode": "overlay",
              "size": 10,
              "solidity": 0.2
             }
            },
            "type": "bar"
           }
          ],
          "barpolar": [
           {
            "marker": {
             "line": {
              "color": "#E5ECF6",
              "width": 0.5
             },
             "pattern": {
              "fillmode": "overlay",
              "size": 10,
              "solidity": 0.2
             }
            },
            "type": "barpolar"
           }
          ],
          "carpet": [
           {
            "aaxis": {
             "endlinecolor": "#2a3f5f",
             "gridcolor": "white",
             "linecolor": "white",
             "minorgridcolor": "white",
             "startlinecolor": "#2a3f5f"
            },
            "baxis": {
             "endlinecolor": "#2a3f5f",
             "gridcolor": "white",
             "linecolor": "white",
             "minorgridcolor": "white",
             "startlinecolor": "#2a3f5f"
            },
            "type": "carpet"
           }
          ],
          "choropleth": [
           {
            "colorbar": {
             "outlinewidth": 0,
             "ticks": ""
            },
            "type": "choropleth"
           }
          ],
          "contour": [
           {
            "colorbar": {
             "outlinewidth": 0,
             "ticks": ""
            },
            "colorscale": [
             [
              0,
              "#0d0887"
             ],
             [
              0.1111111111111111,
              "#46039f"
             ],
             [
              0.2222222222222222,
              "#7201a8"
             ],
             [
              0.3333333333333333,
              "#9c179e"
             ],
             [
              0.4444444444444444,
              "#bd3786"
             ],
             [
              0.5555555555555556,
              "#d8576b"
             ],
             [
              0.6666666666666666,
              "#ed7953"
             ],
             [
              0.7777777777777778,
              "#fb9f3a"
             ],
             [
              0.8888888888888888,
              "#fdca26"
             ],
             [
              1,
              "#f0f921"
             ]
            ],
            "type": "contour"
           }
          ],
          "contourcarpet": [
           {
            "colorbar": {
             "outlinewidth": 0,
             "ticks": ""
            },
            "type": "contourcarpet"
           }
          ],
          "heatmap": [
           {
            "colorbar": {
             "outlinewidth": 0,
             "ticks": ""
            },
            "colorscale": [
             [
              0,
              "#0d0887"
             ],
             [
              0.1111111111111111,
              "#46039f"
             ],
             [
              0.2222222222222222,
              "#7201a8"
             ],
             [
              0.3333333333333333,
              "#9c179e"
             ],
             [
              0.4444444444444444,
              "#bd3786"
             ],
             [
              0.5555555555555556,
              "#d8576b"
             ],
             [
              0.6666666666666666,
              "#ed7953"
             ],
             [
              0.7777777777777778,
              "#fb9f3a"
             ],
             [
              0.8888888888888888,
              "#fdca26"
             ],
             [
              1,
              "#f0f921"
             ]
            ],
            "type": "heatmap"
           }
          ],
          "histogram": [
           {
            "marker": {
             "pattern": {
              "fillmode": "overlay",
              "size": 10,
              "solidity": 0.2
             }
            },
            "type": "histogram"
           }
          ],
          "histogram2d": [
           {
            "colorbar": {
             "outlinewidth": 0,
             "ticks": ""
            },
            "colorscale": [
             [
              0,
              "#0d0887"
             ],
             [
              0.1111111111111111,
              "#46039f"
             ],
             [
              0.2222222222222222,
              "#7201a8"
             ],
             [
              0.3333333333333333,
              "#9c179e"
             ],
             [
              0.4444444444444444,
              "#bd3786"
             ],
             [
              0.5555555555555556,
              "#d8576b"
             ],
             [
              0.6666666666666666,
              "#ed7953"
             ],
             [
              0.7777777777777778,
              "#fb9f3a"
             ],
             [
              0.8888888888888888,
              "#fdca26"
             ],
             [
              1,
              "#f0f921"
             ]
            ],
            "type": "histogram2d"
           }
          ],
          "histogram2dcontour": [
           {
            "colorbar": {
             "outlinewidth": 0,
             "ticks": ""
            },
            "colorscale": [
             [
              0,
              "#0d0887"
             ],
             [
              0.1111111111111111,
              "#46039f"
             ],
             [
              0.2222222222222222,
              "#7201a8"
             ],
             [
              0.3333333333333333,
              "#9c179e"
             ],
             [
              0.4444444444444444,
              "#bd3786"
             ],
             [
              0.5555555555555556,
              "#d8576b"
             ],
             [
              0.6666666666666666,
              "#ed7953"
             ],
             [
              0.7777777777777778,
              "#fb9f3a"
             ],
             [
              0.8888888888888888,
              "#fdca26"
             ],
             [
              1,
              "#f0f921"
             ]
            ],
            "type": "histogram2dcontour"
           }
          ],
          "mesh3d": [
           {
            "colorbar": {
             "outlinewidth": 0,
             "ticks": ""
            },
            "type": "mesh3d"
           }
          ],
          "parcoords": [
           {
            "line": {
             "colorbar": {
              "outlinewidth": 0,
              "ticks": ""
             }
            },
            "type": "parcoords"
           }
          ],
          "pie": [
           {
            "automargin": true,
            "type": "pie"
           }
          ],
          "scatter": [
           {
            "fillpattern": {
             "fillmode": "overlay",
             "size": 10,
             "solidity": 0.2
            },
            "type": "scatter"
           }
          ],
          "scatter3d": [
           {
            "line": {
             "colorbar": {
              "outlinewidth": 0,
              "ticks": ""
             }
            },
            "marker": {
             "colorbar": {
              "outlinewidth": 0,
              "ticks": ""
             }
            },
            "type": "scatter3d"
           }
          ],
          "scattercarpet": [
           {
            "marker": {
             "colorbar": {
              "outlinewidth": 0,
              "ticks": ""
             }
            },
            "type": "scattercarpet"
           }
          ],
          "scattergeo": [
           {
            "marker": {
             "colorbar": {
              "outlinewidth": 0,
              "ticks": ""
             }
            },
            "type": "scattergeo"
           }
          ],
          "scattergl": [
           {
            "marker": {
             "colorbar": {
              "outlinewidth": 0,
              "ticks": ""
             }
            },
            "type": "scattergl"
           }
          ],
          "scattermap": [
           {
            "marker": {
             "colorbar": {
              "outlinewidth": 0,
              "ticks": ""
             }
            },
            "type": "scattermap"
           }
          ],
          "scattermapbox": [
           {
            "marker": {
             "colorbar": {
              "outlinewidth": 0,
              "ticks": ""
             }
            },
            "type": "scattermapbox"
           }
          ],
          "scatterpolar": [
           {
            "marker": {
             "colorbar": {
              "outlinewidth": 0,
              "ticks": ""
             }
            },
            "type": "scatterpolar"
           }
          ],
          "scatterpolargl": [
           {
            "marker": {
             "colorbar": {
              "outlinewidth": 0,
              "ticks": ""
             }
            },
            "type": "scatterpolargl"
           }
          ],
          "scatterternary": [
           {
            "marker": {
             "colorbar": {
              "outlinewidth": 0,
              "ticks": ""
             }
            },
            "type": "scatterternary"
           }
          ],
          "surface": [
           {
            "colorbar": {
             "outlinewidth": 0,
             "ticks": ""
            },
            "colorscale": [
             [
              0,
              "#0d0887"
             ],
             [
              0.1111111111111111,
              "#46039f"
             ],
             [
              0.2222222222222222,
              "#7201a8"
             ],
             [
              0.3333333333333333,
              "#9c179e"
             ],
             [
              0.4444444444444444,
              "#bd3786"
             ],
             [
              0.5555555555555556,
              "#d8576b"
             ],
             [
              0.6666666666666666,
              "#ed7953"
             ],
             [
              0.7777777777777778,
              "#fb9f3a"
             ],
             [
              0.8888888888888888,
              "#fdca26"
             ],
             [
              1,
              "#f0f921"
             ]
            ],
            "type": "surface"
           }
          ],
          "table": [
           {
            "cells": {
             "fill": {
              "color": "#EBF0F8"
             },
             "line": {
              "color": "white"
             }
            },
            "header": {
             "fill": {
              "color": "#C8D4E3"
             },
             "line": {
              "color": "white"
             }
            },
            "type": "table"
           }
          ]
         },
         "layout": {
          "annotationdefaults": {
           "arrowcolor": "#2a3f5f",
           "arrowhead": 0,
           "arrowwidth": 1
          },
          "autotypenumbers": "strict",
          "coloraxis": {
           "colorbar": {
            "outlinewidth": 0,
            "ticks": ""
           }
          },
          "colorscale": {
           "diverging": [
            [
             0,
             "#8e0152"
            ],
            [
             0.1,
             "#c51b7d"
            ],
            [
             0.2,
             "#de77ae"
            ],
            [
             0.3,
             "#f1b6da"
            ],
            [
             0.4,
             "#fde0ef"
            ],
            [
             0.5,
             "#f7f7f7"
            ],
            [
             0.6,
             "#e6f5d0"
            ],
            [
             0.7,
             "#b8e186"
            ],
            [
             0.8,
             "#7fbc41"
            ],
            [
             0.9,
             "#4d9221"
            ],
            [
             1,
             "#276419"
            ]
           ],
           "sequential": [
            [
             0,
             "#0d0887"
            ],
            [
             0.1111111111111111,
             "#46039f"
            ],
            [
             0.2222222222222222,
             "#7201a8"
            ],
            [
             0.3333333333333333,
             "#9c179e"
            ],
            [
             0.4444444444444444,
             "#bd3786"
            ],
            [
             0.5555555555555556,
             "#d8576b"
            ],
            [
             0.6666666666666666,
             "#ed7953"
            ],
            [
             0.7777777777777778,
             "#fb9f3a"
            ],
            [
             0.8888888888888888,
             "#fdca26"
            ],
            [
             1,
             "#f0f921"
            ]
           ],
           "sequentialminus": [
            [
             0,
             "#0d0887"
            ],
            [
             0.1111111111111111,
             "#46039f"
            ],
            [
             0.2222222222222222,
             "#7201a8"
            ],
            [
             0.3333333333333333,
             "#9c179e"
            ],
            [
             0.4444444444444444,
             "#bd3786"
            ],
            [
             0.5555555555555556,
             "#d8576b"
            ],
            [
             0.6666666666666666,
             "#ed7953"
            ],
            [
             0.7777777777777778,
             "#fb9f3a"
            ],
            [
             0.8888888888888888,
             "#fdca26"
            ],
            [
             1,
             "#f0f921"
            ]
           ]
          },
          "colorway": [
           "#636efa",
           "#EF553B",
           "#00cc96",
           "#ab63fa",
           "#FFA15A",
           "#19d3f3",
           "#FF6692",
           "#B6E880",
           "#FF97FF",
           "#FECB52"
          ],
          "font": {
           "color": "#2a3f5f"
          },
          "geo": {
           "bgcolor": "white",
           "lakecolor": "white",
           "landcolor": "#E5ECF6",
           "showlakes": true,
           "showland": true,
           "subunitcolor": "white"
          },
          "hoverlabel": {
           "align": "left"
          },
          "hovermode": "closest",
          "mapbox": {
           "style": "light"
          },
          "paper_bgcolor": "white",
          "plot_bgcolor": "#E5ECF6",
          "polar": {
           "angularaxis": {
            "gridcolor": "white",
            "linecolor": "white",
            "ticks": ""
           },
           "bgcolor": "#E5ECF6",
           "radialaxis": {
            "gridcolor": "white",
            "linecolor": "white",
            "ticks": ""
           }
          },
          "scene": {
           "xaxis": {
            "backgroundcolor": "#E5ECF6",
            "gridcolor": "white",
            "gridwidth": 2,
            "linecolor": "white",
            "showbackground": true,
            "ticks": "",
            "zerolinecolor": "white"
           },
           "yaxis": {
            "backgroundcolor": "#E5ECF6",
            "gridcolor": "white",
            "gridwidth": 2,
            "linecolor": "white",
            "showbackground": true,
            "ticks": "",
            "zerolinecolor": "white"
           },
           "zaxis": {
            "backgroundcolor": "#E5ECF6",
            "gridcolor": "white",
            "gridwidth": 2,
            "linecolor": "white",
            "showbackground": true,
            "ticks": "",
            "zerolinecolor": "white"
           }
          },
          "shapedefaults": {
           "line": {
            "color": "#2a3f5f"
           }
          },
          "ternary": {
           "aaxis": {
            "gridcolor": "white",
            "linecolor": "white",
            "ticks": ""
           },
           "baxis": {
            "gridcolor": "white",
            "linecolor": "white",
            "ticks": ""
           },
           "bgcolor": "#E5ECF6",
           "caxis": {
            "gridcolor": "white",
            "linecolor": "white",
            "ticks": ""
           }
          },
          "title": {
           "x": 0.05
          },
          "xaxis": {
           "automargin": true,
           "gridcolor": "white",
           "linecolor": "white",
           "ticks": "",
           "title": {
            "standoff": 15
           },
           "zerolinecolor": "white",
           "zerolinewidth": 2
          },
          "yaxis": {
           "automargin": true,
           "gridcolor": "white",
           "linecolor": "white",
           "ticks": "",
           "title": {
            "standoff": 15
           },
           "zerolinecolor": "white",
           "zerolinewidth": 2
          }
         }
        },
        "title": {
         "text": "Yds per Attempt by Success Rate<br><sup>Min. 10 Attempts</sup>"
        },
        "xaxis": {
         "anchor": "y",
         "domain": [
          0,
          1
         ],
         "title": {
          "text": "Success Rate (%)"
         }
        },
        "yaxis": {
         "anchor": "x",
         "domain": [
          0,
          1
         ],
         "title": {
          "text": "Yds / Att"
         }
        }
       }
      }
     },
     "metadata": {},
     "output_type": "display_data"
    }
   ],
   "source": [
    "fig = px.scatter(\n",
    "    data_frame=runners.loc[runners['Attempts'] >= 10],\n",
    "    x='Success Rate',\n",
    "    y='Yds / Att',\n",
    "    hover_data=['Attempts', 'Yards'],\n",
    "    text='Name'\n",
    ")\n",
    "fig.update_traces(textposition='top center')\n",
    "fig.update_layout(title='Yds per Attempt by Success Rate<br><sup>Min. 10 Attempts</sup>', xaxis_title='Success Rate (%)')\n",
    "fig.show()"
   ]
  },
  {
   "cell_type": "code",
   "execution_count": null,
   "id": "bff531d6",
   "metadata": {},
   "outputs": [
    {
     "name": "stdout",
     "output_type": "stream",
     "text": [
      "Down & Distance       1st              2nd & Long              2nd & Medium              2nd & Short              3rd & Long              3rd & Medium              3rd & Short              4th & Short             \n",
      "                % Carries Success Rate  % Carries Success Rate    % Carries Success Rate   % Carries Success Rate  % Carries Success Rate    % Carries Success Rate   % Carries Success Rate   % Carries Success Rate\n",
      "Name                                                                                                                                                                                                                 \n",
      "D.Henry             75.86        40.91       3.45         0.00        20.69        33.33         NaN          NaN        NaN          NaN          NaN          NaN         NaN          NaN         NaN          NaN\n",
      "S.Barkley           67.24        46.15       8.62        20.00         8.62        80.00        8.62        60.00       5.17          0.0         1.72        100.0         NaN          NaN         NaN          NaN\n",
      "T.Pollard           55.56        50.00       9.26        20.00        14.81        37.50        9.26       100.00       1.85          0.0         1.85          0.0        7.41         75.0         NaN          NaN\n",
      "J.Dobbins           63.41        61.54       7.32        33.33        14.63        50.00        7.32        33.33        NaN          NaN         2.44          0.0        4.88         50.0         NaN          NaN\n",
      "J.Taylor            56.67        61.76      10.00        33.33        16.67        60.00        8.33        80.00       3.33          0.0         3.33          0.0        1.67          0.0         NaN          NaN\n"
     ]
    },
    {
     "name": "stderr",
     "output_type": "stream",
     "text": [
      "/var/folders/68/537rmjg936dfpk9xqgf5vks40000gn/T/ipykernel_9476/398284468.py:22: PerformanceWarning:\n",
      "\n",
      "dropping on a non-lexsorted multi-index without a level parameter may impact performance.\n",
      "\n"
     ]
    },
    {
     "data": {
      "application/vnd.plotly.v1+json": {
       "config": {
        "plotlyServerURL": "https://plot.ly"
       },
       "data": [
        {
         "coloraxis": "coloraxis",
         "hovertemplate": "Down & Distance: %{x}<br>Name: %{y}<br>color: %{z}<extra></extra>",
         "name": "0",
         "texttemplate": "%{z}",
         "type": "heatmap",
         "x": [
          "1st",
          "2nd & Short",
          "2nd & Medium",
          "2nd & Long",
          "3rd & Short",
          "3rd & Medium",
          "3rd & Long",
          "4th & Short"
         ],
         "xaxis": "x",
         "y": [
          "D.Henry",
          "S.Barkley",
          "T.Pollard",
          "J.Dobbins",
          "J.Taylor",
          "T.Etienne",
          "J.Williams",
          "J.Cook",
          "J.Mason",
          "K.Williams",
          "B.Robinson"
         ],
         "yaxis": "y",
         "z": {
          "bdata": "16NwPQr3UkAAAAAAAAD4f3E9CtejsDRAmpmZmZmZC0AAAAAAAAD4fwAAAAAAAPh/AAAAAAAA+H8AAAAAAAD4f4/C9Shcz1BAPQrXo3A9IUA9CtejcD0hQD0K16NwPSFAAAAAAAAA+H+F61G4HoX7P65H4XoUrhRAAAAAAAAA+H9I4XoUrsdLQIXrUbgehSJAH4XrUbieLUCF61G4HoUiQKRwPQrXox1AmpmZmZmZ/T+amZmZmZn9PwAAAAAAAPh/FK5H4Xq0T0BI4XoUrkcdQMP1KFyPQi1ASOF6FK5HHUCF61G4HoUTQIXrUbgehQNAAAAAAAAA+H8AAAAAAAD4f/YoXI/CVUxAKVyPwvWoIEDsUbgehaswQAAAAAAAACRAuB6F61G4+j+kcD0K16MKQKRwPQrXowpAAAAAAAAA+H+uR+F6FE5QQGZmZmZmZhFAPQrXo3C9JUBxPQrXo3AuQGZmZmZmZhFAAAAAAAAA+H8AAAAAAAD4fwAAAAAAAPh/hetRuB5lT0CamZmZmZkSQMP1KFyPQjdAmpmZmZmZEkCamZmZmZkSQAAAAAAAAPh/AAAAAAAA+H8AAAAAAAD4fwrXo3A9akpAXI/C9SjcIkBI4XoUroc4QDMzMzMzMx5AKVyPwvUoDkA9CtejcD3+PwAAAAAAAPh/AAAAAAAA+H8AAAAAAMBMQAAAAAAAABRAAAAAAAAAJEAAAAAAAAAuQAAAAAAAAB5AAAAAAAAABEAAAAAAAAAEQAAAAAAAAPh/PQrXo3BdSkAfhetRuB4NQFyPwvUoXDBA9ihcj8J1KUCuR+F6FC4iQAAAAAAAAPh/H4XrUbge/T8fhetRuB4NQJqZmZmZ2U5AhetRuB4FIUBI4XoUrkclQArXo3A9iilACtejcD0KAUAAAAAAAAD4fwrXo3A9CgFACtejcD0KAUA=",
          "dtype": "f8",
          "shape": "11, 8"
         }
        }
       ],
       "layout": {
        "coloraxis": {
         "colorscale": [
          [
           0,
           "rgb(247,252,245)"
          ],
          [
           0.125,
           "rgb(229,245,224)"
          ],
          [
           0.25,
           "rgb(199,233,192)"
          ],
          [
           0.375,
           "rgb(161,217,155)"
          ],
          [
           0.5,
           "rgb(116,196,118)"
          ],
          [
           0.625,
           "rgb(65,171,93)"
          ],
          [
           0.75,
           "rgb(35,139,69)"
          ],
          [
           0.875,
           "rgb(0,109,44)"
          ],
          [
           1,
           "rgb(0,68,27)"
          ]
         ]
        },
        "margin": {
         "t": 60
        },
        "template": {
         "data": {
          "bar": [
           {
            "error_x": {
             "color": "#2a3f5f"
            },
            "error_y": {
             "color": "#2a3f5f"
            },
            "marker": {
             "line": {
              "color": "#E5ECF6",
              "width": 0.5
             },
             "pattern": {
              "fillmode": "overlay",
              "size": 10,
              "solidity": 0.2
             }
            },
            "type": "bar"
           }
          ],
          "barpolar": [
           {
            "marker": {
             "line": {
              "color": "#E5ECF6",
              "width": 0.5
             },
             "pattern": {
              "fillmode": "overlay",
              "size": 10,
              "solidity": 0.2
             }
            },
            "type": "barpolar"
           }
          ],
          "carpet": [
           {
            "aaxis": {
             "endlinecolor": "#2a3f5f",
             "gridcolor": "white",
             "linecolor": "white",
             "minorgridcolor": "white",
             "startlinecolor": "#2a3f5f"
            },
            "baxis": {
             "endlinecolor": "#2a3f5f",
             "gridcolor": "white",
             "linecolor": "white",
             "minorgridcolor": "white",
             "startlinecolor": "#2a3f5f"
            },
            "type": "carpet"
           }
          ],
          "choropleth": [
           {
            "colorbar": {
             "outlinewidth": 0,
             "ticks": ""
            },
            "type": "choropleth"
           }
          ],
          "contour": [
           {
            "colorbar": {
             "outlinewidth": 0,
             "ticks": ""
            },
            "colorscale": [
             [
              0,
              "#0d0887"
             ],
             [
              0.1111111111111111,
              "#46039f"
             ],
             [
              0.2222222222222222,
              "#7201a8"
             ],
             [
              0.3333333333333333,
              "#9c179e"
             ],
             [
              0.4444444444444444,
              "#bd3786"
             ],
             [
              0.5555555555555556,
              "#d8576b"
             ],
             [
              0.6666666666666666,
              "#ed7953"
             ],
             [
              0.7777777777777778,
              "#fb9f3a"
             ],
             [
              0.8888888888888888,
              "#fdca26"
             ],
             [
              1,
              "#f0f921"
             ]
            ],
            "type": "contour"
           }
          ],
          "contourcarpet": [
           {
            "colorbar": {
             "outlinewidth": 0,
             "ticks": ""
            },
            "type": "contourcarpet"
           }
          ],
          "heatmap": [
           {
            "colorbar": {
             "outlinewidth": 0,
             "ticks": ""
            },
            "colorscale": [
             [
              0,
              "#0d0887"
             ],
             [
              0.1111111111111111,
              "#46039f"
             ],
             [
              0.2222222222222222,
              "#7201a8"
             ],
             [
              0.3333333333333333,
              "#9c179e"
             ],
             [
              0.4444444444444444,
              "#bd3786"
             ],
             [
              0.5555555555555556,
              "#d8576b"
             ],
             [
              0.6666666666666666,
              "#ed7953"
             ],
             [
              0.7777777777777778,
              "#fb9f3a"
             ],
             [
              0.8888888888888888,
              "#fdca26"
             ],
             [
              1,
              "#f0f921"
             ]
            ],
            "type": "heatmap"
           }
          ],
          "histogram": [
           {
            "marker": {
             "pattern": {
              "fillmode": "overlay",
              "size": 10,
              "solidity": 0.2
             }
            },
            "type": "histogram"
           }
          ],
          "histogram2d": [
           {
            "colorbar": {
             "outlinewidth": 0,
             "ticks": ""
            },
            "colorscale": [
             [
              0,
              "#0d0887"
             ],
             [
              0.1111111111111111,
              "#46039f"
             ],
             [
              0.2222222222222222,
              "#7201a8"
             ],
             [
              0.3333333333333333,
              "#9c179e"
             ],
             [
              0.4444444444444444,
              "#bd3786"
             ],
             [
              0.5555555555555556,
              "#d8576b"
             ],
             [
              0.6666666666666666,
              "#ed7953"
             ],
             [
              0.7777777777777778,
              "#fb9f3a"
             ],
             [
              0.8888888888888888,
              "#fdca26"
             ],
             [
              1,
              "#f0f921"
             ]
            ],
            "type": "histogram2d"
           }
          ],
          "histogram2dcontour": [
           {
            "colorbar": {
             "outlinewidth": 0,
             "ticks": ""
            },
            "colorscale": [
             [
              0,
              "#0d0887"
             ],
             [
              0.1111111111111111,
              "#46039f"
             ],
             [
              0.2222222222222222,
              "#7201a8"
             ],
             [
              0.3333333333333333,
              "#9c179e"
             ],
             [
              0.4444444444444444,
              "#bd3786"
             ],
             [
              0.5555555555555556,
              "#d8576b"
             ],
             [
              0.6666666666666666,
              "#ed7953"
             ],
             [
              0.7777777777777778,
              "#fb9f3a"
             ],
             [
              0.8888888888888888,
              "#fdca26"
             ],
             [
              1,
              "#f0f921"
             ]
            ],
            "type": "histogram2dcontour"
           }
          ],
          "mesh3d": [
           {
            "colorbar": {
             "outlinewidth": 0,
             "ticks": ""
            },
            "type": "mesh3d"
           }
          ],
          "parcoords": [
           {
            "line": {
             "colorbar": {
              "outlinewidth": 0,
              "ticks": ""
             }
            },
            "type": "parcoords"
           }
          ],
          "pie": [
           {
            "automargin": true,
            "type": "pie"
           }
          ],
          "scatter": [
           {
            "fillpattern": {
             "fillmode": "overlay",
             "size": 10,
             "solidity": 0.2
            },
            "type": "scatter"
           }
          ],
          "scatter3d": [
           {
            "line": {
             "colorbar": {
              "outlinewidth": 0,
              "ticks": ""
             }
            },
            "marker": {
             "colorbar": {
              "outlinewidth": 0,
              "ticks": ""
             }
            },
            "type": "scatter3d"
           }
          ],
          "scattercarpet": [
           {
            "marker": {
             "colorbar": {
              "outlinewidth": 0,
              "ticks": ""
             }
            },
            "type": "scattercarpet"
           }
          ],
          "scattergeo": [
           {
            "marker": {
             "colorbar": {
              "outlinewidth": 0,
              "ticks": ""
             }
            },
            "type": "scattergeo"
           }
          ],
          "scattergl": [
           {
            "marker": {
             "colorbar": {
              "outlinewidth": 0,
              "ticks": ""
             }
            },
            "type": "scattergl"
           }
          ],
          "scattermap": [
           {
            "marker": {
             "colorbar": {
              "outlinewidth": 0,
              "ticks": ""
             }
            },
            "type": "scattermap"
           }
          ],
          "scattermapbox": [
           {
            "marker": {
             "colorbar": {
              "outlinewidth": 0,
              "ticks": ""
             }
            },
            "type": "scattermapbox"
           }
          ],
          "scatterpolar": [
           {
            "marker": {
             "colorbar": {
              "outlinewidth": 0,
              "ticks": ""
             }
            },
            "type": "scatterpolar"
           }
          ],
          "scatterpolargl": [
           {
            "marker": {
             "colorbar": {
              "outlinewidth": 0,
              "ticks": ""
             }
            },
            "type": "scatterpolargl"
           }
          ],
          "scatterternary": [
           {
            "marker": {
             "colorbar": {
              "outlinewidth": 0,
              "ticks": ""
             }
            },
            "type": "scatterternary"
           }
          ],
          "surface": [
           {
            "colorbar": {
             "outlinewidth": 0,
             "ticks": ""
            },
            "colorscale": [
             [
              0,
              "#0d0887"
             ],
             [
              0.1111111111111111,
              "#46039f"
             ],
             [
              0.2222222222222222,
              "#7201a8"
             ],
             [
              0.3333333333333333,
              "#9c179e"
             ],
             [
              0.4444444444444444,
              "#bd3786"
             ],
             [
              0.5555555555555556,
              "#d8576b"
             ],
             [
              0.6666666666666666,
              "#ed7953"
             ],
             [
              0.7777777777777778,
              "#fb9f3a"
             ],
             [
              0.8888888888888888,
              "#fdca26"
             ],
             [
              1,
              "#f0f921"
             ]
            ],
            "type": "surface"
           }
          ],
          "table": [
           {
            "cells": {
             "fill": {
              "color": "#EBF0F8"
             },
             "line": {
              "color": "white"
             }
            },
            "header": {
             "fill": {
              "color": "#C8D4E3"
             },
             "line": {
              "color": "white"
             }
            },
            "type": "table"
           }
          ]
         },
         "layout": {
          "annotationdefaults": {
           "arrowcolor": "#2a3f5f",
           "arrowhead": 0,
           "arrowwidth": 1
          },
          "autotypenumbers": "strict",
          "coloraxis": {
           "colorbar": {
            "outlinewidth": 0,
            "ticks": ""
           }
          },
          "colorscale": {
           "diverging": [
            [
             0,
             "#8e0152"
            ],
            [
             0.1,
             "#c51b7d"
            ],
            [
             0.2,
             "#de77ae"
            ],
            [
             0.3,
             "#f1b6da"
            ],
            [
             0.4,
             "#fde0ef"
            ],
            [
             0.5,
             "#f7f7f7"
            ],
            [
             0.6,
             "#e6f5d0"
            ],
            [
             0.7,
             "#b8e186"
            ],
            [
             0.8,
             "#7fbc41"
            ],
            [
             0.9,
             "#4d9221"
            ],
            [
             1,
             "#276419"
            ]
           ],
           "sequential": [
            [
             0,
             "#0d0887"
            ],
            [
             0.1111111111111111,
             "#46039f"
            ],
            [
             0.2222222222222222,
             "#7201a8"
            ],
            [
             0.3333333333333333,
             "#9c179e"
            ],
            [
             0.4444444444444444,
             "#bd3786"
            ],
            [
             0.5555555555555556,
             "#d8576b"
            ],
            [
             0.6666666666666666,
             "#ed7953"
            ],
            [
             0.7777777777777778,
             "#fb9f3a"
            ],
            [
             0.8888888888888888,
             "#fdca26"
            ],
            [
             1,
             "#f0f921"
            ]
           ],
           "sequentialminus": [
            [
             0,
             "#0d0887"
            ],
            [
             0.1111111111111111,
             "#46039f"
            ],
            [
             0.2222222222222222,
             "#7201a8"
            ],
            [
             0.3333333333333333,
             "#9c179e"
            ],
            [
             0.4444444444444444,
             "#bd3786"
            ],
            [
             0.5555555555555556,
             "#d8576b"
            ],
            [
             0.6666666666666666,
             "#ed7953"
            ],
            [
             0.7777777777777778,
             "#fb9f3a"
            ],
            [
             0.8888888888888888,
             "#fdca26"
            ],
            [
             1,
             "#f0f921"
            ]
           ]
          },
          "colorway": [
           "#636efa",
           "#EF553B",
           "#00cc96",
           "#ab63fa",
           "#FFA15A",
           "#19d3f3",
           "#FF6692",
           "#B6E880",
           "#FF97FF",
           "#FECB52"
          ],
          "font": {
           "color": "#2a3f5f"
          },
          "geo": {
           "bgcolor": "white",
           "lakecolor": "white",
           "landcolor": "#E5ECF6",
           "showlakes": true,
           "showland": true,
           "subunitcolor": "white"
          },
          "hoverlabel": {
           "align": "left"
          },
          "hovermode": "closest",
          "mapbox": {
           "style": "light"
          },
          "paper_bgcolor": "white",
          "plot_bgcolor": "#E5ECF6",
          "polar": {
           "angularaxis": {
            "gridcolor": "white",
            "linecolor": "white",
            "ticks": ""
           },
           "bgcolor": "#E5ECF6",
           "radialaxis": {
            "gridcolor": "white",
            "linecolor": "white",
            "ticks": ""
           }
          },
          "scene": {
           "xaxis": {
            "backgroundcolor": "#E5ECF6",
            "gridcolor": "white",
            "gridwidth": 2,
            "linecolor": "white",
            "showbackground": true,
            "ticks": "",
            "zerolinecolor": "white"
           },
           "yaxis": {
            "backgroundcolor": "#E5ECF6",
            "gridcolor": "white",
            "gridwidth": 2,
            "linecolor": "white",
            "showbackground": true,
            "ticks": "",
            "zerolinecolor": "white"
           },
           "zaxis": {
            "backgroundcolor": "#E5ECF6",
            "gridcolor": "white",
            "gridwidth": 2,
            "linecolor": "white",
            "showbackground": true,
            "ticks": "",
            "zerolinecolor": "white"
           }
          },
          "shapedefaults": {
           "line": {
            "color": "#2a3f5f"
           }
          },
          "ternary": {
           "aaxis": {
            "gridcolor": "white",
            "linecolor": "white",
            "ticks": ""
           },
           "baxis": {
            "gridcolor": "white",
            "linecolor": "white",
            "ticks": ""
           },
           "bgcolor": "#E5ECF6",
           "caxis": {
            "gridcolor": "white",
            "linecolor": "white",
            "ticks": ""
           }
          },
          "title": {
           "x": 0.05
          },
          "xaxis": {
           "automargin": true,
           "gridcolor": "white",
           "linecolor": "white",
           "ticks": "",
           "title": {
            "standoff": 15
           },
           "zerolinecolor": "white",
           "zerolinewidth": 2
          },
          "yaxis": {
           "automargin": true,
           "gridcolor": "white",
           "linecolor": "white",
           "ticks": "",
           "title": {
            "standoff": 15
           },
           "zerolinecolor": "white",
           "zerolinewidth": 2
          }
         }
        },
        "title": {
         "automargin": true,
         "text": "% Carries by Down & Distance"
        },
        "xaxis": {
         "anchor": "y",
         "domain": [
          0,
          1
         ],
         "side": "top",
         "title": {
          "text": "Down & Distance"
         }
        },
        "yaxis": {
         "anchor": "x",
         "autorange": "reversed",
         "domain": [
          0,
          1
         ],
         "tickformat": ".0%",
         "title": {
          "text": "Name"
         }
        }
       }
      }
     },
     "metadata": {},
     "output_type": "display_data"
    },
    {
     "data": {
      "application/vnd.plotly.v1+json": {
       "config": {
        "plotlyServerURL": "https://plot.ly"
       },
       "data": [
        {
         "coloraxis": "coloraxis",
         "hovertemplate": "Down & Distance: %{x}<br>Name: %{y}<br>color: %{z}<extra></extra>",
         "name": "0",
         "texttemplate": "%{z}",
         "type": "heatmap",
         "x": [
          "1st",
          "2nd & Short",
          "2nd & Medium",
          "2nd & Long",
          "3rd & Short",
          "3rd & Medium",
          "3rd & Long",
          "4th & Short"
         ],
         "xaxis": "x",
         "y": [
          "D.Henry",
          "S.Barkley",
          "T.Pollard",
          "J.Dobbins",
          "J.Taylor",
          "T.Etienne",
          "J.Williams",
          "J.Cook",
          "J.Mason",
          "K.Williams",
          "B.Robinson"
         ],
         "yaxis": "y",
         "z": {
          "bdata": "FK5H4Xp0REAAAAAAAAD4fwrXo3A9qkBAAAAAAAAAAAAAAAAAAAD4fwAAAAAAAPh/AAAAAAAA+H8AAAAAAAD4fzMzMzMzE0dAAAAAAAAATkAAAAAAAABUQAAAAAAAADRAAAAAAAAA+H8AAAAAAABZQAAAAAAAAAAAAAAAAAAA+H8AAAAAAABJQAAAAAAAAFlAAAAAAADAQkAAAAAAAAA0QAAAAAAAwFJAAAAAAAAAAAAAAAAAAAAAAAAAAAAAAPh/hetRuB7FTkAK16NwPapAQAAAAAAAAElACtejcD2qQEAAAAAAAABJQAAAAAAAAAAAAAAAAAAA+H8AAAAAAAD4f+F6FK5H4U5AAAAAAAAAVEAAAAAAAABOQArXo3A9qkBAAAAAAAAAAAAAAAAAAAAAAAAAAAAAAAAAAAAAAAAA+H8AAAAAAABJQAAAAAAAAFlAAAAAAAAAREBSuB6F65E8QAAAAAAAAAAAAAAAAAAA+H8AAAAAAAD4fwAAAAAAAPh/MzMzMzMTSEAAAAAAAABZQAAAAAAAAFlAAAAAAAAAWUAAAAAAAABZQAAAAAAAAPh/AAAAAAAA+H8AAAAAAAD4f8P1KFyPElBAAAAAAAAATkBI4XoUridVQAAAAAAAAAAAAAAAAAAASUAAAAAAAAAAAAAAAAAAAPh/AAAAAAAA+H+uR+F6FE5QQAAAAAAAAElAAAAAAADAUkAK16NwPapAQHsUrkfhqlBAAAAAAAAAAAAAAAAAAAAAAAAAAAAAAPh/9ihcj8KVS0AAAAAAAAAAAEjhehSux0tA7FG4HoXbUUAAAAAAAABOQAAAAAAAAPh/AAAAAAAAAAAAAAAAAABJQFyPwvUo3ElAAAAAAAAAWUAAAAAAAABOQAAAAAAAAElAAAAAAAAAWUAAAAAAAAD4fwAAAAAAAAAAAAAAAAAAAAA=",
          "dtype": "f8",
          "shape": "11, 8"
         }
        }
       ],
       "layout": {
        "coloraxis": {
         "colorscale": [
          [
           0,
           "rgb(247,252,245)"
          ],
          [
           0.125,
           "rgb(229,245,224)"
          ],
          [
           0.25,
           "rgb(199,233,192)"
          ],
          [
           0.375,
           "rgb(161,217,155)"
          ],
          [
           0.5,
           "rgb(116,196,118)"
          ],
          [
           0.625,
           "rgb(65,171,93)"
          ],
          [
           0.75,
           "rgb(35,139,69)"
          ],
          [
           0.875,
           "rgb(0,109,44)"
          ],
          [
           1,
           "rgb(0,68,27)"
          ]
         ]
        },
        "margin": {
         "t": 60
        },
        "template": {
         "data": {
          "bar": [
           {
            "error_x": {
             "color": "#2a3f5f"
            },
            "error_y": {
             "color": "#2a3f5f"
            },
            "marker": {
             "line": {
              "color": "#E5ECF6",
              "width": 0.5
             },
             "pattern": {
              "fillmode": "overlay",
              "size": 10,
              "solidity": 0.2
             }
            },
            "type": "bar"
           }
          ],
          "barpolar": [
           {
            "marker": {
             "line": {
              "color": "#E5ECF6",
              "width": 0.5
             },
             "pattern": {
              "fillmode": "overlay",
              "size": 10,
              "solidity": 0.2
             }
            },
            "type": "barpolar"
           }
          ],
          "carpet": [
           {
            "aaxis": {
             "endlinecolor": "#2a3f5f",
             "gridcolor": "white",
             "linecolor": "white",
             "minorgridcolor": "white",
             "startlinecolor": "#2a3f5f"
            },
            "baxis": {
             "endlinecolor": "#2a3f5f",
             "gridcolor": "white",
             "linecolor": "white",
             "minorgridcolor": "white",
             "startlinecolor": "#2a3f5f"
            },
            "type": "carpet"
           }
          ],
          "choropleth": [
           {
            "colorbar": {
             "outlinewidth": 0,
             "ticks": ""
            },
            "type": "choropleth"
           }
          ],
          "contour": [
           {
            "colorbar": {
             "outlinewidth": 0,
             "ticks": ""
            },
            "colorscale": [
             [
              0,
              "#0d0887"
             ],
             [
              0.1111111111111111,
              "#46039f"
             ],
             [
              0.2222222222222222,
              "#7201a8"
             ],
             [
              0.3333333333333333,
              "#9c179e"
             ],
             [
              0.4444444444444444,
              "#bd3786"
             ],
             [
              0.5555555555555556,
              "#d8576b"
             ],
             [
              0.6666666666666666,
              "#ed7953"
             ],
             [
              0.7777777777777778,
              "#fb9f3a"
             ],
             [
              0.8888888888888888,
              "#fdca26"
             ],
             [
              1,
              "#f0f921"
             ]
            ],
            "type": "contour"
           }
          ],
          "contourcarpet": [
           {
            "colorbar": {
             "outlinewidth": 0,
             "ticks": ""
            },
            "type": "contourcarpet"
           }
          ],
          "heatmap": [
           {
            "colorbar": {
             "outlinewidth": 0,
             "ticks": ""
            },
            "colorscale": [
             [
              0,
              "#0d0887"
             ],
             [
              0.1111111111111111,
              "#46039f"
             ],
             [
              0.2222222222222222,
              "#7201a8"
             ],
             [
              0.3333333333333333,
              "#9c179e"
             ],
             [
              0.4444444444444444,
              "#bd3786"
             ],
             [
              0.5555555555555556,
              "#d8576b"
             ],
             [
              0.6666666666666666,
              "#ed7953"
             ],
             [
              0.7777777777777778,
              "#fb9f3a"
             ],
             [
              0.8888888888888888,
              "#fdca26"
             ],
             [
              1,
              "#f0f921"
             ]
            ],
            "type": "heatmap"
           }
          ],
          "histogram": [
           {
            "marker": {
             "pattern": {
              "fillmode": "overlay",
              "size": 10,
              "solidity": 0.2
             }
            },
            "type": "histogram"
           }
          ],
          "histogram2d": [
           {
            "colorbar": {
             "outlinewidth": 0,
             "ticks": ""
            },
            "colorscale": [
             [
              0,
              "#0d0887"
             ],
             [
              0.1111111111111111,
              "#46039f"
             ],
             [
              0.2222222222222222,
              "#7201a8"
             ],
             [
              0.3333333333333333,
              "#9c179e"
             ],
             [
              0.4444444444444444,
              "#bd3786"
             ],
             [
              0.5555555555555556,
              "#d8576b"
             ],
             [
              0.6666666666666666,
              "#ed7953"
             ],
             [
              0.7777777777777778,
              "#fb9f3a"
             ],
             [
              0.8888888888888888,
              "#fdca26"
             ],
             [
              1,
              "#f0f921"
             ]
            ],
            "type": "histogram2d"
           }
          ],
          "histogram2dcontour": [
           {
            "colorbar": {
             "outlinewidth": 0,
             "ticks": ""
            },
            "colorscale": [
             [
              0,
              "#0d0887"
             ],
             [
              0.1111111111111111,
              "#46039f"
             ],
             [
              0.2222222222222222,
              "#7201a8"
             ],
             [
              0.3333333333333333,
              "#9c179e"
             ],
             [
              0.4444444444444444,
              "#bd3786"
             ],
             [
              0.5555555555555556,
              "#d8576b"
             ],
             [
              0.6666666666666666,
              "#ed7953"
             ],
             [
              0.7777777777777778,
              "#fb9f3a"
             ],
             [
              0.8888888888888888,
              "#fdca26"
             ],
             [
              1,
              "#f0f921"
             ]
            ],
            "type": "histogram2dcontour"
           }
          ],
          "mesh3d": [
           {
            "colorbar": {
             "outlinewidth": 0,
             "ticks": ""
            },
            "type": "mesh3d"
           }
          ],
          "parcoords": [
           {
            "line": {
             "colorbar": {
              "outlinewidth": 0,
              "ticks": ""
             }
            },
            "type": "parcoords"
           }
          ],
          "pie": [
           {
            "automargin": true,
            "type": "pie"
           }
          ],
          "scatter": [
           {
            "fillpattern": {
             "fillmode": "overlay",
             "size": 10,
             "solidity": 0.2
            },
            "type": "scatter"
           }
          ],
          "scatter3d": [
           {
            "line": {
             "colorbar": {
              "outlinewidth": 0,
              "ticks": ""
             }
            },
            "marker": {
             "colorbar": {
              "outlinewidth": 0,
              "ticks": ""
             }
            },
            "type": "scatter3d"
           }
          ],
          "scattercarpet": [
           {
            "marker": {
             "colorbar": {
              "outlinewidth": 0,
              "ticks": ""
             }
            },
            "type": "scattercarpet"
           }
          ],
          "scattergeo": [
           {
            "marker": {
             "colorbar": {
              "outlinewidth": 0,
              "ticks": ""
             }
            },
            "type": "scattergeo"
           }
          ],
          "scattergl": [
           {
            "marker": {
             "colorbar": {
              "outlinewidth": 0,
              "ticks": ""
             }
            },
            "type": "scattergl"
           }
          ],
          "scattermap": [
           {
            "marker": {
             "colorbar": {
              "outlinewidth": 0,
              "ticks": ""
             }
            },
            "type": "scattermap"
           }
          ],
          "scattermapbox": [
           {
            "marker": {
             "colorbar": {
              "outlinewidth": 0,
              "ticks": ""
             }
            },
            "type": "scattermapbox"
           }
          ],
          "scatterpolar": [
           {
            "marker": {
             "colorbar": {
              "outlinewidth": 0,
              "ticks": ""
             }
            },
            "type": "scatterpolar"
           }
          ],
          "scatterpolargl": [
           {
            "marker": {
             "colorbar": {
              "outlinewidth": 0,
              "ticks": ""
             }
            },
            "type": "scatterpolargl"
           }
          ],
          "scatterternary": [
           {
            "marker": {
             "colorbar": {
              "outlinewidth": 0,
              "ticks": ""
             }
            },
            "type": "scatterternary"
           }
          ],
          "surface": [
           {
            "colorbar": {
             "outlinewidth": 0,
             "ticks": ""
            },
            "colorscale": [
             [
              0,
              "#0d0887"
             ],
             [
              0.1111111111111111,
              "#46039f"
             ],
             [
              0.2222222222222222,
              "#7201a8"
             ],
             [
              0.3333333333333333,
              "#9c179e"
             ],
             [
              0.4444444444444444,
              "#bd3786"
             ],
             [
              0.5555555555555556,
              "#d8576b"
             ],
             [
              0.6666666666666666,
              "#ed7953"
             ],
             [
              0.7777777777777778,
              "#fb9f3a"
             ],
             [
              0.8888888888888888,
              "#fdca26"
             ],
             [
              1,
              "#f0f921"
             ]
            ],
            "type": "surface"
           }
          ],
          "table": [
           {
            "cells": {
             "fill": {
              "color": "#EBF0F8"
             },
             "line": {
              "color": "white"
             }
            },
            "header": {
             "fill": {
              "color": "#C8D4E3"
             },
             "line": {
              "color": "white"
             }
            },
            "type": "table"
           }
          ]
         },
         "layout": {
          "annotationdefaults": {
           "arrowcolor": "#2a3f5f",
           "arrowhead": 0,
           "arrowwidth": 1
          },
          "autotypenumbers": "strict",
          "coloraxis": {
           "colorbar": {
            "outlinewidth": 0,
            "ticks": ""
           }
          },
          "colorscale": {
           "diverging": [
            [
             0,
             "#8e0152"
            ],
            [
             0.1,
             "#c51b7d"
            ],
            [
             0.2,
             "#de77ae"
            ],
            [
             0.3,
             "#f1b6da"
            ],
            [
             0.4,
             "#fde0ef"
            ],
            [
             0.5,
             "#f7f7f7"
            ],
            [
             0.6,
             "#e6f5d0"
            ],
            [
             0.7,
             "#b8e186"
            ],
            [
             0.8,
             "#7fbc41"
            ],
            [
             0.9,
             "#4d9221"
            ],
            [
             1,
             "#276419"
            ]
           ],
           "sequential": [
            [
             0,
             "#0d0887"
            ],
            [
             0.1111111111111111,
             "#46039f"
            ],
            [
             0.2222222222222222,
             "#7201a8"
            ],
            [
             0.3333333333333333,
             "#9c179e"
            ],
            [
             0.4444444444444444,
             "#bd3786"
            ],
            [
             0.5555555555555556,
             "#d8576b"
            ],
            [
             0.6666666666666666,
             "#ed7953"
            ],
            [
             0.7777777777777778,
             "#fb9f3a"
            ],
            [
             0.8888888888888888,
             "#fdca26"
            ],
            [
             1,
             "#f0f921"
            ]
           ],
           "sequentialminus": [
            [
             0,
             "#0d0887"
            ],
            [
             0.1111111111111111,
             "#46039f"
            ],
            [
             0.2222222222222222,
             "#7201a8"
            ],
            [
             0.3333333333333333,
             "#9c179e"
            ],
            [
             0.4444444444444444,
             "#bd3786"
            ],
            [
             0.5555555555555556,
             "#d8576b"
            ],
            [
             0.6666666666666666,
             "#ed7953"
            ],
            [
             0.7777777777777778,
             "#fb9f3a"
            ],
            [
             0.8888888888888888,
             "#fdca26"
            ],
            [
             1,
             "#f0f921"
            ]
           ]
          },
          "colorway": [
           "#636efa",
           "#EF553B",
           "#00cc96",
           "#ab63fa",
           "#FFA15A",
           "#19d3f3",
           "#FF6692",
           "#B6E880",
           "#FF97FF",
           "#FECB52"
          ],
          "font": {
           "color": "#2a3f5f"
          },
          "geo": {
           "bgcolor": "white",
           "lakecolor": "white",
           "landcolor": "#E5ECF6",
           "showlakes": true,
           "showland": true,
           "subunitcolor": "white"
          },
          "hoverlabel": {
           "align": "left"
          },
          "hovermode": "closest",
          "mapbox": {
           "style": "light"
          },
          "paper_bgcolor": "white",
          "plot_bgcolor": "#E5ECF6",
          "polar": {
           "angularaxis": {
            "gridcolor": "white",
            "linecolor": "white",
            "ticks": ""
           },
           "bgcolor": "#E5ECF6",
           "radialaxis": {
            "gridcolor": "white",
            "linecolor": "white",
            "ticks": ""
           }
          },
          "scene": {
           "xaxis": {
            "backgroundcolor": "#E5ECF6",
            "gridcolor": "white",
            "gridwidth": 2,
            "linecolor": "white",
            "showbackground": true,
            "ticks": "",
            "zerolinecolor": "white"
           },
           "yaxis": {
            "backgroundcolor": "#E5ECF6",
            "gridcolor": "white",
            "gridwidth": 2,
            "linecolor": "white",
            "showbackground": true,
            "ticks": "",
            "zerolinecolor": "white"
           },
           "zaxis": {
            "backgroundcolor": "#E5ECF6",
            "gridcolor": "white",
            "gridwidth": 2,
            "linecolor": "white",
            "showbackground": true,
            "ticks": "",
            "zerolinecolor": "white"
           }
          },
          "shapedefaults": {
           "line": {
            "color": "#2a3f5f"
           }
          },
          "ternary": {
           "aaxis": {
            "gridcolor": "white",
            "linecolor": "white",
            "ticks": ""
           },
           "baxis": {
            "gridcolor": "white",
            "linecolor": "white",
            "ticks": ""
           },
           "bgcolor": "#E5ECF6",
           "caxis": {
            "gridcolor": "white",
            "linecolor": "white",
            "ticks": ""
           }
          },
          "title": {
           "x": 0.05
          },
          "xaxis": {
           "automargin": true,
           "gridcolor": "white",
           "linecolor": "white",
           "ticks": "",
           "title": {
            "standoff": 15
           },
           "zerolinecolor": "white",
           "zerolinewidth": 2
          },
          "yaxis": {
           "automargin": true,
           "gridcolor": "white",
           "linecolor": "white",
           "ticks": "",
           "title": {
            "standoff": 15
           },
           "zerolinecolor": "white",
           "zerolinewidth": 2
          }
         }
        },
        "title": {
         "automargin": true,
         "text": "Success Rate by Down & Distance"
        },
        "xaxis": {
         "anchor": "y",
         "domain": [
          0,
          1
         ],
         "side": "top",
         "title": {
          "text": "Down & Distance"
         }
        },
        "yaxis": {
         "anchor": "x",
         "autorange": "reversed",
         "domain": [
          0,
          1
         ],
         "tickformat": ".0%",
         "title": {
          "text": "Name"
         }
        }
       }
      }
     },
     "metadata": {},
     "output_type": "display_data"
    }
   ],
   "source": [
    "\n",
    "## Group by Down & Distances\n",
    "rusher_carries = run_data.groupby(['rusher_player_id', 'Down & Distance']).aggregate(\n",
    "    Name=('rusher_player_name', 'first'),\n",
    "    Attempts=('rusher_player_id', 'size'),\n",
    "    Successes=('Successful Play', 'sum')\n",
    ").reset_index()\n",
    "\n",
    "rusher_carries = rusher_carries.merge(\n",
    "    runners[['rusher_player_id', 'Attempts', 'Success Rate']].rename(columns={'Attempts': 'Total Attempts', 'Success Rate': 'Overall Success Rate'}), \n",
    "    on='rusher_player_id', how='left'\n",
    "    ).sort_values(by='Total Attempts', ascending=False).reset_index(drop=True)\n",
    "rusher_carries['% Carries'] = round((rusher_carries['Attempts'] / rusher_carries['Total Attempts']) * 100, 2)\n",
    "rusher_carries['Success Rate'] = round((rusher_carries['Successes'] / rusher_carries['Attempts']) * 100, 2)\n",
    "# print(rusher_carries.head(10).to_string())\n",
    "\n",
    "## Pivot to wide\n",
    "piv = rusher_carries.loc[(rusher_carries['rusher_player_id'].isin(top_10_runners)) \n",
    "                         & (rusher_carries['Down & Distance'] != ''),:].pivot(\n",
    "    index=['rusher_player_id', 'Name'],\n",
    "    columns=['Down & Distance'],\n",
    "    values=['% Carries', 'Success Rate']\n",
    ").swaplevel(0, 1, axis=1).sort_index(axis=1).reset_index().set_index('Name').drop(columns='rusher_player_id')\n",
    "# print(piv.head().to_string())\n",
    "\n",
    "down_distances = ['1st', '2nd & Short', '2nd & Medium', '2nd & Long', '3rd & Short', '3rd & Medium', '3rd & Long', '4th & Short', '4th & Medium']\n",
    "\n",
    "## Heatmap\n",
    "for col in ['% Carries', 'Success Rate']:\n",
    "    idx = pd.IndexSlice\n",
    "    sl = pd.DataFrame(piv.loc[:, idx[:, col]])\n",
    "    sl.columns = sl.columns.get_level_values(0)\n",
    "    sl = sl.reindex(columns=list(filter(lambda x: x in piv.columns, down_distances)))\n",
    "    # print(sl.head().to_string())\n",
    "\n",
    "    fig = px.imshow(\n",
    "        sl,\n",
    "        aspect=\"auto\",\n",
    "        text_auto=True,\n",
    "        color_continuous_scale='Greens'\n",
    "    )\n",
    "    fig.update_xaxes(side=\"top\")\n",
    "    fig.update_layout(title=dict(text=f'{col} by Down & Distance', automargin=True), \n",
    "                      yaxis=dict(tickformat=\".0%\"))\n",
    "    fig.show()\n",
    "\n",
    "\n",
    "# annot_df = sl.copy() # Initialize with data, convert to string\n",
    "# for r in annot_df.index:\n",
    "#     for c in sl.columns:\n",
    "#         annot_df.loc[r, c] = f\"{piv.loc[r,(c, 'Attempts')]:,.0f}\\n{piv.loc[r, (c, 'Success Rate')]:,.1f}%\"\n",
    "\n",
    "# print(annot_df.head().to_string())\n",
    "# fig, ax = plt.subplots(figsize=(15,10))\n",
    "# sns.heatmap(data=sl, annot=annot_df, fmt=\"\", linewidth=0.5, cmap='crest', ax=ax, annot_kws={\"size\": 8, \"va\": \"center\"})\n",
    "# ax.set(xlabel=\"\", ylabel=\"\", title='Attempts & Success Rate by Down / Distance')\n",
    "# ax.xaxis.tick_top()\n",
    "# ax.tick_params(axis='x', rotation=45)"
   ]
  },
  {
   "cell_type": "code",
   "execution_count": null,
   "id": "d1252933",
   "metadata": {},
   "outputs": [
    {
     "name": "stdout",
     "output_type": "stream",
     "text": [
      "(334, 3)\n",
      "   rusher_player_id rusher_player_name Snaps\n",
      "0        00-0033553           J.Conner  None\n",
      "1        00-0035228           K.Murray  None\n",
      "2        00-0037248             J.Cook  None\n",
      "3        00-0039921           T.Benson  None\n",
      "4        00-0035537         Ty.Johnson  None\n",
      "5        00-0034857            J.Allen  None\n",
      "6        00-0039875            R.Davis  None\n",
      "7        00-0035500           G.Dortch  None\n",
      "8        00-0032764            D.Henry  None\n",
      "9        00-0034796          L.Jackson  None\n",
      "10       00-0037197          I.Pacheco  None\n",
      "11       00-0039894           X.Worthy  None\n",
      "12       00-0039064          Z.Flowers  None\n",
      "13       00-0034975             J.Hill  None\n",
      "14       00-0033873          P.Mahomes  None\n",
      "15       00-0039325           C.Steele  None\n",
      "16       00-0033906           A.Kamara  None\n",
      "17       00-0033357             T.Hill  None\n",
      "18       00-0036555          C.Hubbard  None\n",
      "19       00-0039150            B.Young  None\n",
      "20       00-0035243          M.Sanders  None\n",
      "21       00-0033948        Ja.Williams  None\n",
      "22       00-0039062            J.Mingo  None\n",
      "23       00-0031280             D.Carr  None\n",
      "24       00-0038678             J.Mims  None\n",
      "25       00-0034208            M.Boone  None\n",
      "26       00-0033045          E.Elliott  None\n",
      "27       00-0037267             J.Ford  None\n",
      "28       00-0033537           D.Watson  None\n",
      "29       00-0036358             C.Lamb  None\n",
      "30       00-0036139           R.Dowdle  None\n",
      "31       00-0033077         D.Prescott  None\n",
      "32       00-0038622           D.Vaughn  None\n",
      "33       00-0038098           P.Strong  None\n",
      "34       00-0031236            B.Cooks  None\n",
      "35       00-0033662             C.Rush  None\n",
      "36       00-0036997         J.Williams  None\n",
      "37       00-0038134           K.Walker  None\n",
      "38       00-0038794       J.McLaughlin  None\n",
      "39       00-0039165       Z.Charbonnet  None\n",
      "40       00-0039732              B.Nix  None\n",
      "41       00-0039373           A.Estime  None\n",
      "42       00-0030565            G.Smith  None\n",
      "43       00-0036268         L.Shenault  None\n",
      "44       00-0035700           J.Jacobs  None\n",
      "45       00-0034844          S.Barkley  None\n",
      "46       00-0036389            J.Hurts  None\n",
      "47       00-0038797          Em.Wilson  None\n",
      "48       00-0039146             J.Reed  None\n",
      "49       00-0036919         K.Gainwell  None\n",
      "50       00-0036223           J.Taylor  None\n",
      "51       00-0033897            J.Mixon  None\n",
      "52       00-0039163           C.Stroud  None\n",
      "53       00-0039164       A.Richardson  None\n",
      "54       00-0031588            S.Diggs  None\n",
      "55       00-0037258           D.Pierce  None\n",
      "56       00-0038977             T.Dell  None\n",
      "57       00-0031687          R.Mostert  None\n",
      "58       00-0039040           D.Achane  None\n",
      "59       00-0036973          T.Etienne  None\n",
      "60       00-0038555           T.Bigsby  None\n",
      "61       00-0036971         T.Lawrence  None\n",
      "62       00-0036212       T.Tagovailoa  None\n",
      "63       00-0036613           J.Waddle  None\n",
      "64       00-0036331         D.Duvernay  None\n",
      "65       00-0034115           J.Wilson  None\n",
      "66       00-0035125           A.Ingold  None\n",
      "67       00-0035685       D.Montgomery  None\n",
      "68       00-0037840         K.Williams  None\n",
      "69       00-0039139            J.Gibbs  None\n",
      "70       00-0039075            P.Nacua  None\n",
      "71       00-0037557           R.Rivers  None\n",
      "72       00-0033908             C.Kupp  None\n",
      "73       00-0037240         J.Williams  None\n",
      "74       00-0033106             J.Goff  None\n",
      "75       00-0032464          K.Raymond  None\n",
      "76       00-0034184          G.Edwards  None\n",
      "77       00-0038040            Z.White  None\n",
      "78       00-0036158          J.Dobbins  None\n",
      "79       00-0034960           J.Meyers  None\n",
      "80       00-0034972         A.Mattison  None\n",
      "81       00-0035289          G.Minshew  None\n",
      "82       00-0036355          J.Herbert  None\n",
      "83       00-0038573            D.Davis  None\n",
      "84       00-0035250       D.Singletary  None\n",
      "85       00-0033293            A.Jones  None\n",
      "86       00-0038396             E.Gray  None\n",
      "87       00-0035710            D.Jones  None\n",
      "88       00-0034869          S.Darnold  None\n",
      "89       00-0039384            T.Tracy  None\n",
      "90       00-0037276         T.Chandler  None\n",
      "91       00-0038117         W.Robinson  None\n",
      "92       00-0035311           M.Gaskin  None\n",
      "93       00-0036251             Z.Moss  None\n",
      "94       00-0036875        R.Stevenson  None\n",
      "95       00-0033119         J.Brissett  None\n",
      "96       00-0036328           A.Gibson  None\n",
      "97       00-0036442           J.Burrow  None\n",
      "98       00-0038597            C.Brown  None\n",
      "99       00-0038120             B.Hall  None\n"
     ]
    }
   ],
   "source": [
    "# def agg_func(group):\n",
    "#     print(group)\n",
    "\n",
    "# grouped = pbp_data.loc[pbp_data['week'] == 1,:].groupby('rusher_player_name')\n",
    "\n",
    "\n",
    "# print(f'Week 1 Rushers: {len(grouped):,}')\n",
    "# for name, group_df in grouped:\n",
    "#     print(name)\n",
    "#     print(group_df.shape)\n",
    "#     print(group_df.head().to_string())\n",
    "\n",
    "rushers = pbp_data[['rusher_player_id', 'rusher_player_name']].dropna().drop_duplicates().reset_index(drop=True)\n",
    "\n",
    "def snap_count(id):\n",
    "    snaps_sl = pbp_data.loc[(pbp_data['Snap']) &\n",
    "                        (~pbp_data['offense_players'].isna()) &\n",
    "                      (pbp_data['offense_players'].str.contains(id)), :]\n",
    "    \n",
    "    return snaps_sl.shape[0]\n",
    "\n",
    "rushers['Snaps'] = rushers['rusher_player_id'].apply(lambda x: snap_count(x))\n",
    "\n",
    "rushers = rushers.sort_values(by='Snaps', ascending=False)\n",
    "\n",
    "print(rushers.shape)\n",
    "print(rushers.head(100).to_string())\n",
    "\n",
    "\n",
    "\n",
    "\n",
    "\n",
    "\n"
   ]
  },
  {
   "cell_type": "code",
   "execution_count": 80,
   "id": "963e5c6d",
   "metadata": {},
   "outputs": [
    {
     "name": "stdout",
     "output_type": "stream",
     "text": [
      "0                                                  NaN\n",
      "1    00-0039807;00-0037141;00-0039864;00-0035961;00...\n",
      "2    00-0034495;00-0035258;00-0034346;00-0035228;00...\n",
      "3    00-0034495;00-0035258;00-0034346;00-0035228;00...\n",
      "4    00-0034495;00-0035258;00-0034346;00-0035228;00...\n"
     ]
    }
   ],
   "source": [
    "print(pbp_data['offense_players'].head().to_string())"
   ]
  },
  {
   "cell_type": "code",
   "execution_count": 90,
   "id": "03981c35",
   "metadata": {},
   "outputs": [
    {
     "name": "stdout",
     "output_type": "stream",
     "text": [
      " snaps = 724\n",
      " attempts = 305\n",
      " yards = 1431.0\n",
      " tds = 11\n",
      " first_downs = 72\n",
      " successful_rushes = 139\n",
      "success rate: 45.57\n"
     ]
    }
   ],
   "source": [
    "''' Jonathan Taylor '''\n",
    "\n",
    "# jt_snaps = run_data.loc[run_data['offense_players'].str.contains('00-0036223'), :].copy()\n",
    "jt_runs = run_data.loc[run_data['rusher_player_id'] == '00-0036223', :].copy()\n",
    "\n",
    "snaps = pbp_data.loc[(~pbp_data['offense_players'].isna()) & (pbp_data['offense_players'].str.contains('00-0036223')), :].shape[0]\n",
    "attempts = len(jt_runs)\n",
    "yards = jt_runs['yards_gained'].sum()\n",
    "tds = jt_runs.loc[jt_runs['touchdown'] == 1, :].shape[0]\n",
    "first_downs = jt_runs.loc[jt_runs['first_down'] == 1, :].shape[0]\n",
    "successful_rushes = jt_runs.loc[jt_runs['Successful Play'], :].shape[0]\n",
    "\n",
    "print(f'{ snaps = }')\n",
    "print(f'{ attempts = }')\n",
    "print(f'{ yards = }')\n",
    "print(f'{ tds = }')\n",
    "print(f'{ first_downs = }')\n",
    "print(f'{ successful_rushes = }')\n",
    "print(f'success rate: {(successful_rushes / attempts) * 100:,.2f}')"
   ]
  },
  {
   "cell_type": "code",
   "execution_count": 72,
   "id": "c09448a9",
   "metadata": {},
   "outputs": [
    {
     "name": "stdout",
     "output_type": "stream",
     "text": [
      "(3296, 376)\n",
      "2005.0\n"
     ]
    }
   ],
   "source": [
    "''' Receiving '''\n",
    "\n",
    "pass_data = pbp_data.loc[pbp_data['play_type'] == 'pass', :].copy()\n",
    "\n",
    "print(pass_data.shape)\n",
    "print(pass_data['complete_pass'].sum())\n"
   ]
  },
  {
   "cell_type": "code",
   "execution_count": 73,
   "id": "aeaa6971",
   "metadata": {},
   "outputs": [
    {
     "name": "stdout",
     "output_type": "stream",
     "text": [
      "Targets: 27\n",
      "Receptions: 21.0\n",
      "Yards: 241.0\n",
      "YAC: 129.0\n",
      "TDs: 1\n",
      "1Ds: 12.0\n",
      "Successes: 17\n",
      "Success Rate: 62.96\n"
     ]
    }
   ],
   "source": [
    "chase_data = pass_data.loc[pass_data['receiver_player_id'] == '00-0036900', :]\n",
    "\n",
    "targets = len(chase_data)\n",
    "receptions = chase_data['complete_pass'].sum()\n",
    "yards = chase_data['yards_gained'].sum()\n",
    "yac = chase_data['yards_after_catch'].sum()\n",
    "# tds = chase_data['touchdown'].sum()\n",
    "tds = chase_data.loc[chase_data['touchdown'] == 1, :].shape[0]\n",
    "first_downs = chase_data['first_down'].sum()\n",
    "successes = chase_data['Successful Play'].sum()\n",
    "success_rate = successes / targets\n",
    "\n",
    "print(f'Targets: {targets:,}')\n",
    "print(f'Receptions: {receptions:,}')\n",
    "print(f'Yards: {yards:,}')\n",
    "print(f'YAC: {yac:,}')\n",
    "print(f'TDs: {tds:,}')\n",
    "print(f'1Ds: {first_downs:,}')\n",
    "print(f'Successes: {successes:,}')\n",
    "print(f'Success Rate: {success_rate*100:,.2f}')\n"
   ]
  }
 ],
 "metadata": {
  "kernelspec": {
   "display_name": "Python 3",
   "language": "python",
   "name": "python3"
  },
  "language_info": {
   "codemirror_mode": {
    "name": "ipython",
    "version": 3
   },
   "file_extension": ".py",
   "mimetype": "text/x-python",
   "name": "python",
   "nbconvert_exporter": "python",
   "pygments_lexer": "ipython3",
   "version": "3.11.2"
  }
 },
 "nbformat": 4,
 "nbformat_minor": 5
}
