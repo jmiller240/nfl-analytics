{
 "cells": [
  {
   "cell_type": "code",
   "execution_count": null,
   "id": "51408f63",
   "metadata": {},
   "outputs": [],
   "source": [
    "from datetime import datetime\n",
    "import requests\n",
    "from io import BytesIO\n",
    "from PIL import Image\n",
    "\n",
    "import pandas as pd\n",
    "import numpy as np\n",
    "\n",
    "import nfl_data_py as nfl\n",
    "\n",
    "import plotly.express as px\n",
    "import plotly.graph_objects as go\n",
    "import plotly.io as pio\n",
    "import plotly.colors as cl\n",
    "\n",
    "from resources.plotly_theme import nfl_template\n",
    "from resources.heat_map import heat_map\n",
    "from resources.get_nfl_data import get_pbp_data, get_team_data\n",
    "from notebooks.resources.team_stats import get_team_offense_data\n",
    "\n",
    "\n",
    "pio.templates['nfl_template'] = nfl_template"
   ]
  },
  {
   "cell_type": "code",
   "execution_count": 2,
   "id": "602c4369",
   "metadata": {},
   "outputs": [],
   "source": [
    "''' Parameters '''\n",
    "\n",
    "WEEK = 8\n",
    "AWAY_TEAM = 'WAS'\n",
    "HOME_TEAM = 'KC'\n"
   ]
  },
  {
   "cell_type": "markdown",
   "id": "b4bc7eef",
   "metadata": {},
   "source": [
    "# Process"
   ]
  },
  {
   "cell_type": "code",
   "execution_count": null,
   "id": "3440b090",
   "metadata": {},
   "outputs": [
    {
     "name": "stdout",
     "output_type": "stream",
     "text": [
      "2025 done.\n",
      "Downcasting floats.\n"
     ]
    }
   ],
   "source": [
    "''' Import Data '''\n",
    "\n",
    "# pbp_data: pd.DataFrame = nfl.import_pbp_data([2025], downcast=True)\n",
    "\n",
    "# pbp_data = pbp_data.loc[pbp_data['season_type'] == 'REG', :]\n",
    "\n",
    "# ## Success\n",
    "# pbp_data['% ydstogo'] = pbp_data['yards_gained'] / pbp_data['ydstogo']\n",
    "\n",
    "# pbp_data['Successful Play'] = (\n",
    "#     ((pbp_data['down'] == 1) & (pbp_data['% ydstogo'] >= 0.4)) |\n",
    "#     ((pbp_data['down'] == 2) & (pbp_data['% ydstogo'] >= 0.6)) |\n",
    "#     (pbp_data['first_down'] == 1) |\n",
    "#     (pbp_data['touchdown'] == 1)\n",
    "# )\n",
    "\n",
    "# ## Snaps\n",
    "# pbp_data['Snap'] = ((pbp_data['pass'] == 1) | (pbp_data['rush']) == 1 | (pbp_data['special'] == 1))\n",
    "\n",
    "# ## Yard Thresholds\n",
    "# def distance_range(down, yds):\n",
    "       \n",
    "#     down_s = ''\n",
    "#     match down:\n",
    "#         case 1:\n",
    "#             # down_s = '1st'\n",
    "#             return '1st'\n",
    "#         case 2:\n",
    "#             down_s = '2nd'\n",
    "#         case 3:\n",
    "#             down_s = '3rd'\n",
    "#         case 4:\n",
    "#             down_s = '4th'\n",
    "#         case default:\n",
    "#             return ''\n",
    "        \n",
    "#     yds_range = ''\n",
    "#     if yds <= 2:\n",
    "#         yds_range = 'Short'\n",
    "#     elif yds <= 6:\n",
    "#         yds_range = 'Medium'\n",
    "#     else:\n",
    "#         yds_range = 'Long'\n",
    "\n",
    "#     return f'{down_s} & {yds_range}'\n",
    "    \n",
    "# pbp_data['Down & Distance'] = pbp_data.apply(lambda x: distance_range(x['down'], x['ydstogo']), axis=1)"
   ]
  },
  {
   "cell_type": "code",
   "execution_count": 3,
   "id": "f3d28bb2",
   "metadata": {},
   "outputs": [
    {
     "name": "stdout",
     "output_type": "stream",
     "text": [
      "2025 done.\n",
      "Downcasting floats.\n"
     ]
    },
    {
     "name": "stderr",
     "output_type": "stream",
     "text": [
      "/Users/jmiller/Documents/Fun/nfl/notebooks/resources/get_nfl_data.py:102: PerformanceWarning: DataFrame is highly fragmented.  This is usually the result of calling `frame.insert` many times, which has poor performance.  Consider joining all columns at once using pd.concat(axis=1) instead. To get a de-fragmented frame, use `newframe = frame.copy()`\n",
      "  pbp_data['Non-Play Type'] = conditions\n",
      "/Users/jmiller/Documents/Fun/nfl/notebooks/resources/get_nfl_data.py:105: PerformanceWarning: DataFrame is highly fragmented.  This is usually the result of calling `frame.insert` many times, which has poor performance.  Consider joining all columns at once using pd.concat(axis=1) instead. To get a de-fragmented frame, use `newframe = frame.copy()`\n",
      "  pbp_data['Offensive Snap'] = (((pbp_data['pass'] == 1) | (pbp_data['rush'] == 1)) & (~pbp_data['epa'].isna()))\n",
      "/Users/jmiller/Documents/Fun/nfl/notebooks/resources/get_nfl_data.py:109: PerformanceWarning: DataFrame is highly fragmented.  This is usually the result of calling `frame.insert` many times, which has poor performance.  Consider joining all columns at once using pd.concat(axis=1) instead. To get a de-fragmented frame, use `newframe = frame.copy()`\n",
      "  pbp_data['Is Special Teams Play'] = special_conditions\n",
      "/Users/jmiller/Documents/Fun/nfl/notebooks/resources/get_nfl_data.py:112: PerformanceWarning: DataFrame is highly fragmented.  This is usually the result of calling `frame.insert` many times, which has poor performance.  Consider joining all columns at once using pd.concat(axis=1) instead. To get a de-fragmented frame, use `newframe = frame.copy()`\n",
      "  pbp_data['% ydstogo'] = pbp_data['yards_gained'] / pbp_data['ydstogo']\n",
      "/Users/jmiller/Documents/Fun/nfl/notebooks/resources/get_nfl_data.py:113: PerformanceWarning: DataFrame is highly fragmented.  This is usually the result of calling `frame.insert` many times, which has poor performance.  Consider joining all columns at once using pd.concat(axis=1) instead. To get a de-fragmented frame, use `newframe = frame.copy()`\n",
      "  pbp_data['Successful Play'] = (\n"
     ]
    },
    {
     "name": "stdout",
     "output_type": "stream",
     "text": [
      "(148, 378)\n"
     ]
    }
   ],
   "source": [
    "''' Import Data '''\n",
    "\n",
    "# Import\n",
    "team_data = get_team_data()\n",
    "pbp_data = get_pbp_data(years=[2025])\n",
    "\n",
    "player_info = nfl.import_players()\n",
    "\n",
    "game_data = pbp_data.loc[(pbp_data['week'] == WEEK) & \n",
    "                         (pbp_data['home_team'] == HOME_TEAM), :]\n",
    "\n",
    "print(game_data.shape)"
   ]
  },
  {
   "cell_type": "code",
   "execution_count": 92,
   "id": "76a6080a",
   "metadata": {},
   "outputs": [
    {
     "name": "stdout",
     "output_type": "stream",
     "text": [
      "          gsis_id     display_name common_first_name first_name last_name short_name football_name suffix     esb_id nfl_id    pfr_id pff_id otc_id  espn_id                              smart_id  birth_date position_group position ngs_position_group ngs_position  height  weight                                                                           headshot college_name  college_conference jersey_number  rookie_season  last_season latest_team status ngs_status ngs_status_short_description  years_of_experience pff_position pff_status  draft_year  draft_round  draft_pick draft_team\n",
      "21068  00-0036223  Jonathan Taylor          Jonathan   Jonathan    Taylor   J.Taylor      Jonathan   None  TAY431618  52449  TaylJo02  57488   8781  4242335  32005441-5943-1618-c081-5dd6b2d0b829  1999-01-19             RB       RB                 RB           RB    70.0   226.0  https://static.www.nfl.com/image/upload/f_auto,q_auto/league/uwmnrhwtwug0wrgkomjk    Wisconsin  Big Ten Conference            28           2020         2025         IND    ACT        ACT                       Active                    6           HB          A      2020.0          2.0        41.0        IND\n"
     ]
    }
   ],
   "source": [
    "print(player_info.loc[player_info['gsis_id'] == '00-0036223',:].head().to_string())"
   ]
  },
  {
   "cell_type": "markdown",
   "id": "8109e862",
   "metadata": {},
   "source": [
    "# Offense"
   ]
  },
  {
   "cell_type": "code",
   "execution_count": 4,
   "id": "48cfbac0",
   "metadata": {},
   "outputs": [
    {
     "name": "stdout",
     "output_type": "stream",
     "text": [
      "         Games  Plays  TDs  FirstDowns  RushAttempts  RushYards  RushTDs  Rush1Ds  DesignedRushPlays  DesignedRushAttempts  DesignedRushYards  QBScrambles  ScrambleYards  DesignedPassPlays  Dropbacks  PassCompletions  PassAttempts  PassYards  PassTDs  Pass1Ds  Sacks  SackYards  INTs  Fumbles  Penalties  PenaltyYards  Penalty1Ds  Drives  Total Yards  Turnovers  PlaysAdv  PassPlays  RushPlays        EPA   RushEPA    PassEPA  Successes  RushSuccesses  PassSuccesses  EPA / Play  Rush EPA / Play  Pass EPA / Play  Success Rate  Rush Success Rate  Pass Success Rate\n",
      "posteam                                                                                                                                                                                                                                                                                                                                                                                                                                                                                                                                                                             \n",
      "KC           1     67  4.0        26.0          30.0      148.0      1.0      8.0               26.0                  26.0              118.0          3.0           31.0               42.0       40.0             25.0          34.0      284.0      3.0     16.0    3.0      -15.0   2.0      0.0        4.0          45.0         2.0       9        432.0        2.0        68       42.0       26.0  17.814377  2.669808  15.144567       35.0           11.0           24.0       0.262            0.103            0.361         0.515              0.423              0.571\n",
      "WAS          1     52  1.0        14.0          20.0       60.0      0.0      4.0               17.0                  17.0               50.0          3.0           10.0               36.0       35.0             21.0          30.0      200.0      1.0      9.0    2.0      -13.0   2.0      0.0        1.0           5.0         1.0       8        260.0        2.0        53       36.0       17.0  -8.467771 -1.163211  -7.304559       22.0            6.0           16.0      -0.160           -0.068           -0.203         0.415              0.353              0.444\n"
     ]
    }
   ],
   "source": [
    "team_offense = get_team_offense_data(game_data)\n",
    "\n",
    "print(team_offense.to_string())"
   ]
  },
  {
   "cell_type": "markdown",
   "id": "bae1a3f4",
   "metadata": {},
   "source": [
    "## Rushing"
   ]
  },
  {
   "cell_type": "code",
   "execution_count": 8,
   "id": "21ab76e2",
   "metadata": {},
   "outputs": [],
   "source": [
    "''' Rushing '''\n",
    "\n",
    "run_data = game_data.loc[game_data['play_type'] == 'run', :]\n",
    "# run_data = pbp_data.loc[pbp_data['play_type'] == 'run', :]\n"
   ]
  },
  {
   "cell_type": "code",
   "execution_count": 9,
   "id": "05b4116c",
   "metadata": {},
   "outputs": [
    {
     "name": "stdout",
     "output_type": "stream",
     "text": [
      "                   Attempts  Yards  TDs  FirstDowns  Successes  Yds / Att  Success Rate  1D Rate  TD Rate\n",
      "posteam game_half                                                                                        \n",
      "IND     Half1             9   75.0  1.0         5.0          6       8.33         66.67    55.56    11.11\n",
      "        Half2             9   89.0  1.0         2.0          2       9.89         22.22    22.22    11.11\n",
      "        Total            18  164.0  2.0         7.0          8       9.11         44.44    38.89    11.11\n",
      "TEN     Half1            11   71.0  0.0         2.0          5       6.45         45.45    18.18     0.00\n",
      "        Half2            14   42.0  1.0         3.0          6       3.00         42.86    21.43     7.14\n",
      "        Total            25  113.0  1.0         5.0         11       4.52         44.00    20.00     4.00\n"
     ]
    }
   ],
   "source": [
    "''' Team Rushing '''\n",
    "\n",
    "by_team = run_data.groupby(['posteam', 'game_half']).aggregate(\n",
    "    Attempts=('rusher_player_id', 'size'),\n",
    "    Yards=('yards_gained', 'sum'),\n",
    "    TDs=('touchdown', 'sum'),\n",
    "    FirstDowns=('first_down', 'sum'),\n",
    "    Successes=('Successful Play', 'sum')\n",
    ")\n",
    "totals = by_team.groupby(['posteam']).sum()\n",
    "totals.index = pd.MultiIndex.from_tuples([(i, 'Total') for i in totals.index])\n",
    "by_team = pd.concat([by_team, totals]).sort_index()\n",
    "\n",
    "by_team['Yds / Att'] = round(by_team['Yards'] / by_team['Attempts'], 2)\n",
    "by_team['Success Rate'] = round((by_team['Successes'] / by_team['Attempts']) * 100, 2)\n",
    "by_team['1D Rate'] = round((by_team['FirstDowns'] / by_team['Attempts']) * 100, 2)\n",
    "by_team['TD Rate'] = round((by_team['TDs'] / by_team['Attempts']) * 100, 2)\n",
    "\n",
    "print(by_team.to_string())\n"
   ]
  },
  {
   "cell_type": "code",
   "execution_count": null,
   "id": "68580a2f",
   "metadata": {},
   "outputs": [
    {
     "name": "stdout",
     "output_type": "stream",
     "text": [
      "                             player_id  Attempts  Yards  TDs  FirstDowns  Successes  Yds / Att  Success Rate  1D Rate  TD Rate                                                                           Headshot\n",
      "posteam rusher_player_name                                                                                                                                                                                       \n",
      "TEN     T.Pollard           00-0035261        11   44.0  0.0         3.0          5       4.00         45.45    27.27     0.00  https://static.www.nfl.com/image/upload/f_auto,q_auto/league/dvpdczetkdhrqpm8izmd\n",
      "        T.Spears            00-0039032         9   59.0  1.0         2.0          4       6.56         44.44    22.22    11.11  https://static.www.nfl.com/image/upload/f_auto,q_auto/league/fc7vhbtw80einad9hsfu\n",
      "        C.Ward              00-0040676         2    4.0  0.0         0.0          1       2.00         50.00     0.00     0.00  https://static.www.nfl.com/image/upload/f_auto,q_auto/league/viadutkbvligsopnd2qn\n",
      "        J.Chestnut          00-0037594         2    5.0  0.0         0.0          1       2.50         50.00     0.00     0.00  https://static.www.nfl.com/image/upload/f_auto,q_auto/league/glst6wabuuvbrssmidng\n",
      "        C.Dike              00-0040705         1    1.0  0.0         0.0          0       1.00          0.00     0.00     0.00  https://static.www.nfl.com/image/upload/f_auto,q_auto/league/njdduv9jx7c8vlrll8ex\n",
      "IND     J.Taylor            00-0036223        12  153.0  2.0         7.0          8      12.75         66.67    58.33    16.67  https://static.www.nfl.com/image/upload/f_auto,q_auto/league/uwmnrhwtwug0wrgkomjk\n",
      "        A.Abdullah          00-0032104         2    5.0  0.0         0.0          0       2.50          0.00     0.00     0.00  https://static.www.nfl.com/image/upload/f_auto,q_auto/league/atwi5p12mlgnsl4y8cgt\n",
      "        T.Goodson           00-0037120         2    2.0  0.0         0.0          0       1.00          0.00     0.00     0.00  https://static.www.nfl.com/image/upload/f_auto,q_auto/league/fvuevf0apxtfjwdj7l0e\n",
      "        D.Jones             00-0035710         1    3.0  0.0         0.0          0       3.00          0.00     0.00     0.00  https://static.www.nfl.com/image/upload/f_auto,q_auto/league/nhuiypfjzpkisxllinyv\n",
      "        R.Leonard           00-0040206         1    1.0  0.0         0.0          0       1.00          0.00     0.00     0.00  https://static.www.nfl.com/image/upload/f_auto,q_auto/league/vzdcrhp4p5kjmuhn7yay\n"
     ]
    }
   ],
   "source": [
    "''' Player Rushing '''\n",
    "\n",
    "by_player = run_data.groupby(['posteam', 'rusher_player_name']).aggregate(\n",
    "    player_id=('rusher_player_id', 'first'),\n",
    "    Attempts=('rusher_player_id', 'size'),\n",
    "    Yards=('yards_gained', 'sum'),\n",
    "    TDs=('touchdown', 'sum'),\n",
    "    FirstDowns=('first_down', 'sum'),\n",
    "    Successes=('Successful Play', 'sum')\n",
    ").sort_values(by=['posteam', 'Attempts'], ascending=False)\n",
    "\n",
    "by_player['Yds / Att'] = round(by_player['Yards'] / by_player['Attempts'], 2)\n",
    "by_player['Success Rate'] = round((by_player['Successes'] / by_player['Attempts']) * 100, 2)\n",
    "by_player['1D Rate'] = round((by_player['FirstDowns'] / by_player['Attempts']) * 100, 2)\n",
    "by_player['TD Rate'] = round((by_player['TDs'] / by_player['Attempts']) * 100, 2)\n",
    "\n",
    "print(by_player.to_string())"
   ]
  },
  {
   "cell_type": "code",
   "execution_count": 7,
   "id": "43ebb113",
   "metadata": {},
   "outputs": [
    {
     "name": "stdout",
     "output_type": "stream",
     "text": [
      "['rgb(247,252,245)', 'rgb(229,245,224)', 'rgb(199,233,192)', 'rgb(161,217,155)', 'rgb(116,196,118)', 'rgb(65,171,93)', 'rgb(35,139,69)', 'rgb(0,109,44)', 'rgb(0,68,27)']\n",
      "['g']\n"
     ]
    },
    {
     "ename": "PlotlyError",
     "evalue": "You must select either rgb or tuple for your colortype variable.",
     "output_type": "error",
     "traceback": [
      "\u001b[0;31m---------------------------------------------------------------------------\u001b[0m",
      "\u001b[0;31mPlotlyError\u001b[0m                               Traceback (most recent call last)",
      "Cell \u001b[0;32mIn[7], line 11\u001b[0m\n\u001b[1;32m      8\u001b[0m \u001b[38;5;28mprint\u001b[39m(rgb_colors)\n\u001b[1;32m     10\u001b[0m \u001b[38;5;66;03m# Convert RGB colors to hex format\u001b[39;00m\n\u001b[0;32m---> 11\u001b[0m hex_colors \u001b[38;5;241m=\u001b[39m \u001b[43mcl\u001b[49m\u001b[38;5;241;43m.\u001b[39;49m\u001b[43mconvert_colors_to_same_type\u001b[49m\u001b[43m(\u001b[49m\u001b[43mrgb_colors\u001b[49m\u001b[43m,\u001b[49m\u001b[43m \u001b[49m\u001b[43mcolortype\u001b[49m\u001b[38;5;241;43m=\u001b[39;49m\u001b[38;5;124;43m'\u001b[39;49m\u001b[38;5;124;43mhex\u001b[39;49m\u001b[38;5;124;43m'\u001b[39;49m\u001b[43m)\u001b[49m\n\u001b[1;32m     13\u001b[0m \u001b[38;5;28mprint\u001b[39m(\u001b[38;5;124mf\u001b[39m\u001b[38;5;124m\"\u001b[39m\u001b[38;5;124mHex colors from \u001b[39m\u001b[38;5;124m'\u001b[39m\u001b[38;5;132;01m{\u001b[39;00mcolorscale_name\u001b[38;5;132;01m}\u001b[39;00m\u001b[38;5;124m'\u001b[39m\u001b[38;5;124m colorscale:\u001b[39m\u001b[38;5;124m\"\u001b[39m)\n\u001b[1;32m     14\u001b[0m \u001b[38;5;28;01mfor\u001b[39;00m hex_code \u001b[38;5;129;01min\u001b[39;00m hex_colors:\n",
      "File \u001b[0;32m/opt/homebrew/lib/python3.11/site-packages/_plotly_utils/colors/__init__.py:489\u001b[0m, in \u001b[0;36mconvert_colors_to_same_type\u001b[0;34m(colors, colortype, scale, return_default_colors, num_of_defualt_colors)\u001b[0m\n\u001b[1;32m    487\u001b[0m     \u001b[38;5;28;01mreturn\u001b[39;00m (colors_list, scale)\n\u001b[1;32m    488\u001b[0m \u001b[38;5;28;01melse\u001b[39;00m:\n\u001b[0;32m--> 489\u001b[0m     \u001b[38;5;28;01mraise\u001b[39;00m exceptions\u001b[38;5;241m.\u001b[39mPlotlyError(\n\u001b[1;32m    490\u001b[0m         \u001b[38;5;124m\"\u001b[39m\u001b[38;5;124mYou must select either rgb or tuple for your colortype variable.\u001b[39m\u001b[38;5;124m\"\u001b[39m\n\u001b[1;32m    491\u001b[0m     )\n",
      "\u001b[0;31mPlotlyError\u001b[0m: You must select either rgb or tuple for your colortype variable."
     ]
    }
   ],
   "source": [
    "# Define your colorscale (using a built-in sequential scale as an example)\n",
    "colorscale_name = 'Greens'\n",
    "colorscale = cl.sequential.__dict__[colorscale_name]\n",
    "print(colorscale)\n",
    "\n",
    "# Extract colors from the colorscale\n",
    "rgb_colors = cl.colorscale_to_colors(['rgb(0,68,27)'])\n",
    "print(rgb_colors)\n",
    "\n",
    "# Convert RGB colors to hex format\n",
    "hex_colors = cl.convert_colors_to_same_type(rgb_colors, colortype='hex')\n",
    "\n",
    "print(f\"Hex colors from '{colorscale_name}' colorscale:\")\n",
    "for hex_code in hex_colors:\n",
    "    print(hex_code)"
   ]
  },
  {
   "cell_type": "code",
   "execution_count": 71,
   "id": "99452e19",
   "metadata": {},
   "outputs": [
    {
     "name": "stdout",
     "output_type": "stream",
     "text": [
      "                         1st                       2nd & Short                       2nd & Medium                       2nd & Long                       3rd & Short                       3rd & Medium                       3rd & Long                       4th & Short                       4th & Medium                      \n",
      "                   Successes Attempts Success Rate   Successes Attempts Success Rate    Successes Attempts Success Rate  Successes Attempts Success Rate   Successes Attempts Success Rate    Successes Attempts Success Rate  Successes Attempts Success Rate   Successes Attempts Success Rate    Successes Attempts Success Rate\n",
      "rusher_player_name                                                                                                                                                                                                                                                                                                                 \n",
      "A.Abdullah               0.0      2.0        0.000         NaN      NaN          NaN          NaN      NaN          NaN        NaN      NaN          NaN         NaN      NaN          NaN          NaN      NaN          NaN        NaN      NaN          NaN         NaN      NaN          NaN          NaN      NaN          NaN\n",
      "C.Dike                   0.0      1.0        0.000         NaN      NaN          NaN          NaN      NaN          NaN        NaN      NaN          NaN         NaN      NaN          NaN          NaN      NaN          NaN        NaN      NaN          NaN         NaN      NaN          NaN          NaN      NaN          NaN\n",
      "C.Ward                   1.0      2.0        0.500         NaN      NaN          NaN          NaN      NaN          NaN        NaN      NaN          NaN         NaN      NaN          NaN          NaN      NaN          NaN        NaN      NaN          NaN         NaN      NaN          NaN          NaN      NaN          NaN\n",
      "D.Jones                  0.0      1.0        0.000         NaN      NaN          NaN          NaN      NaN          NaN        NaN      NaN          NaN         NaN      NaN          NaN          NaN      NaN          NaN        NaN      NaN          NaN         NaN      NaN          NaN          NaN      NaN          NaN\n",
      "J.Chestnut               1.0      1.0        1.000         NaN      NaN          NaN          0.0      1.0          0.0        NaN      NaN          NaN         NaN      NaN          NaN          NaN      NaN          NaN        NaN      NaN          NaN         NaN      NaN          NaN          NaN      NaN          NaN\n",
      "J.Taylor                 5.0      8.0        0.625         NaN      NaN          NaN          NaN      NaN          NaN        1.0      1.0          1.0         1.0      1.0          1.0          NaN      NaN          NaN        0.0      1.0          0.0         1.0      1.0          1.0          NaN      NaN          NaN\n",
      "R.Leonard                NaN      NaN          NaN         NaN      NaN          NaN          NaN      NaN          NaN        0.0      1.0          0.0         NaN      NaN          NaN          NaN      NaN          NaN        NaN      NaN          NaN         NaN      NaN          NaN          NaN      NaN          NaN\n",
      "T.Goodson                0.0      1.0        0.000         NaN      NaN          NaN          NaN      NaN          NaN        0.0      1.0          0.0         NaN      NaN          NaN          NaN      NaN          NaN        NaN      NaN          NaN         NaN      NaN          NaN          NaN      NaN          NaN\n",
      "T.Pollard                4.0      8.0        0.500         NaN      NaN          NaN          NaN      NaN          NaN        0.0      1.0          0.0         1.0      1.0          1.0          0.0      1.0          0.0        NaN      NaN          NaN         NaN      NaN          NaN          NaN      NaN          NaN\n",
      "T.Spears                 1.0      4.0        0.250         NaN      NaN          NaN          0.0      2.0          0.0        1.0      1.0          1.0         NaN      NaN          NaN          1.0      1.0          1.0        NaN      NaN          NaN         1.0      1.0          1.0          NaN      NaN          NaN\n",
      "                      1st  2nd & Short  2nd & Medium  2nd & Long  3rd & Short  3rd & Medium  3rd & Long  4th & Short  4th & Medium  Attempts\n",
      "rusher_player_name                                                                                                                          \n",
      "J.Taylor            0.625          NaN           NaN         1.0          1.0           NaN         0.0          1.0           NaN        12\n",
      "T.Pollard           0.500          NaN           NaN         0.0          1.0           0.0         NaN          NaN           NaN        11\n",
      "T.Spears            0.250          NaN           0.0         1.0          NaN           1.0         NaN          1.0           NaN         9\n",
      "A.Abdullah          0.000          NaN           NaN         NaN          NaN           NaN         NaN          NaN           NaN         2\n",
      "C.Ward              0.500          NaN           NaN         NaN          NaN           NaN         NaN          NaN           NaN         2\n",
      "J.Chestnut          1.000          NaN           0.0         NaN          NaN           NaN         NaN          NaN           NaN         2\n",
      "T.Goodson           0.000          NaN           NaN         0.0          NaN           NaN         NaN          NaN           NaN         2\n",
      "C.Dike              0.000          NaN           NaN         NaN          NaN           NaN         NaN          NaN           NaN         1\n",
      "D.Jones             0.000          NaN           NaN         NaN          NaN           NaN         NaN          NaN           NaN         1\n",
      "R.Leonard             NaN          NaN           NaN         0.0          NaN           NaN         NaN          NaN           NaN         1\n",
      "J.Taylor\n",
      "T.Pollard\n",
      "T.Spears\n",
      "A.Abdullah\n",
      "C.Ward\n",
      "J.Chestnut\n",
      "T.Goodson\n",
      "C.Dike\n",
      "D.Jones\n",
      "R.Leonard\n"
     ]
    },
    {
     "data": {
      "application/vnd.plotly.v1+json": {
       "config": {
        "plotlyServerURL": "https://plot.ly"
       },
       "data": [
        {
         "colorbar": {
          "tickformat": "0.0%",
          "title": {
           "font": {
            "weight": "bold"
           },
           "side": "right",
           "text": "Success Rate"
          }
         },
         "colorscale": [
          [
           0,
           "rgb(247,252,245)"
          ],
          [
           0.125,
           "rgb(229,245,224)"
          ],
          [
           0.25,
           "rgb(199,233,192)"
          ],
          [
           0.375,
           "rgb(161,217,155)"
          ],
          [
           0.5,
           "rgb(116,196,118)"
          ],
          [
           0.625,
           "rgb(65,171,93)"
          ],
          [
           0.75,
           "rgb(35,139,69)"
          ],
          [
           0.875,
           "rgb(0,109,44)"
          ],
          [
           1,
           "rgb(0,68,27)"
          ]
         ],
         "text": [
          [
           "62.5%<br>(5 / 8)",
           "",
           "",
           "100.0%<br>(1 / 1)",
           "100.0%<br>(1 / 1)",
           "",
           "0.0%<br>(0 / 1)",
           "100.0%<br>(1 / 1)",
           "",
           12
          ],
          [
           "50.0%<br>(4 / 8)",
           "",
           "",
           "0.0%<br>(0 / 1)",
           "100.0%<br>(1 / 1)",
           "0.0%<br>(0 / 1)",
           "",
           "",
           "",
           11
          ],
          [
           "25.0%<br>(1 / 4)",
           "",
           "0.0%<br>(0 / 2)",
           "100.0%<br>(1 / 1)",
           "",
           "100.0%<br>(1 / 1)",
           "",
           "100.0%<br>(1 / 1)",
           "",
           9
          ],
          [
           "0.0%<br>(0 / 2)",
           "",
           "",
           "",
           "",
           "",
           "",
           "",
           "",
           2
          ],
          [
           "50.0%<br>(1 / 2)",
           "",
           "",
           "",
           "",
           "",
           "",
           "",
           "",
           2
          ],
          [
           "100.0%<br>(1 / 1)",
           "",
           "0.0%<br>(0 / 1)",
           "",
           "",
           "",
           "",
           "",
           "",
           2
          ],
          [
           "0.0%<br>(0 / 1)",
           "",
           "",
           "0.0%<br>(0 / 1)",
           "",
           "",
           "",
           "",
           "",
           2
          ],
          [
           "0.0%<br>(0 / 1)",
           "",
           "",
           "",
           "",
           "",
           "",
           "",
           "",
           1
          ],
          [
           "0.0%<br>(0 / 1)",
           "",
           "",
           "",
           "",
           "",
           "",
           "",
           "",
           1
          ],
          [
           "",
           "",
           "",
           "0.0%<br>(0 / 1)",
           "",
           "",
           "",
           "",
           "",
           1
          ]
         ],
         "textfont": {
          "size": 10
         },
         "texttemplate": "%{text}",
         "type": "heatmap",
         "x": [
          "1st",
          "2nd<br>&<br>Short",
          "2nd<br>&<br>Medium",
          "2nd<br>&<br>Long",
          "3rd<br>&<br>Short",
          "3rd<br>&<br>Medium",
          "3rd<br>&<br>Long",
          "4th<br>&<br>Short",
          "4th<br>&<br>Medium"
         ],
         "xgap": 1,
         "y": [
          "J.Taylor",
          "T.Pollard",
          "T.Spears",
          "A.Abdullah",
          "C.Ward",
          "J.Chestnut",
          "T.Goodson",
          "C.Dike",
          "D.Jones",
          "R.Leonard"
         ],
         "ygap": 1,
         "z": [
          [
           0.625,
           null,
           null,
           1,
           1,
           null,
           0,
           1,
           null,
           12
          ],
          [
           0.5,
           null,
           null,
           0,
           1,
           0,
           null,
           null,
           null,
           11
          ],
          [
           0.25,
           null,
           0,
           1,
           null,
           1,
           null,
           1,
           null,
           9
          ],
          [
           0,
           null,
           null,
           null,
           null,
           null,
           null,
           null,
           null,
           2
          ],
          [
           0.5,
           null,
           null,
           null,
           null,
           null,
           null,
           null,
           null,
           2
          ],
          [
           1,
           null,
           0,
           null,
           null,
           null,
           null,
           null,
           null,
           2
          ],
          [
           0,
           null,
           null,
           0,
           null,
           null,
           null,
           null,
           null,
           2
          ],
          [
           0,
           null,
           null,
           null,
           null,
           null,
           null,
           null,
           null,
           1
          ],
          [
           0,
           null,
           null,
           null,
           null,
           null,
           null,
           null,
           null,
           1
          ],
          [
           null,
           null,
           null,
           0,
           null,
           null,
           null,
           null,
           null,
           1
          ]
         ]
        }
       ],
       "layout": {
        "annotations": [
         {
          "align": "left",
          "showarrow": false,
          "text": "Figure: @clankeranalytic | Data: nfl_data_py | 2025-10-28",
          "x": 1,
          "xref": "paper",
          "y": -0.1,
          "yref": "paper"
         }
        ],
        "height": 500,
        "margin": {
         "b": 50,
         "l": 100,
         "r": 100,
         "t": 100
        },
        "template": {
         "data": {
          "bar": [
           {
            "marker": {
             "line": {
              "color": "#ffffff",
              "width": 1
             }
            },
            "type": "bar"
           }
          ],
          "scatter": [
           {
            "marker": {
             "size": 8,
             "symbol": "circle"
            },
            "type": "scatter"
           },
           {
            "line": {
             "width": 2
            },
            "type": "scatter"
           }
          ]
         },
         "layout": {
          "colorway": [
           "#636efa",
           "#ef553b",
           "#00cc96",
           "#ab63fa",
           "#ffa15a"
          ],
          "font": {
           "color": "#000000",
           "family": "Helvetica",
           "size": 10
          },
          "height": 500,
          "margin": {
           "b": 50,
           "l": 50,
           "r": 50,
           "t": 75
          },
          "paper_bgcolor": "#f0f0f0",
          "plot_bgcolor": "rgba(0,0,0,0)",
          "title": {
           "font": {
            "color": "#1a1a1a",
            "size": 18,
            "weight": "bold"
           },
           "x": 0.07,
           "xref": "container",
           "y": 0.95,
           "yref": "container"
          },
          "width": 900,
          "xaxis": {
           "gridcolor": "#d1d1d1",
           "griddash": "solid",
           "gridwidth": 1,
           "linecolor": "#d1d1d1",
           "tickcolor": "#d1d1d1",
           "ticks": "",
           "title": {
            "font": {
             "weight": "bold"
            },
            "standoff": 5
           },
           "zeroline": false
          },
          "yaxis": {
           "gridcolor": "#d1d1d1",
           "griddash": "solid",
           "gridwidth": 1,
           "linecolor": "#d1d1d1",
           "tickcolor": "#d1d1d1",
           "ticks": "",
           "title": {
            "font": {
             "weight": "bold"
            },
            "standoff": 5
           },
           "zeroline": false
          }
         }
        },
        "title": {
         "text": "Rushing <span style=\"color: #006D2C\">Success Rate</span> by Down & Distance<br><sup>NFL Week 8: TEN @ IND</sup>"
        },
        "width": 900,
        "xaxis": {
         "side": "top",
         "tickfont": {
          "textcase": "upper"
         }
        },
        "yaxis": {
         "autorange": "reversed",
         "categoryorder": "array",
         "tickfont": {
          "textcase": "upper"
         },
         "tickformat": ".0%"
        }
       }
      }
     },
     "metadata": {},
     "output_type": "display_data"
    }
   ],
   "source": [
    "''' Rush by Down / Distance '''\n",
    "\n",
    "MIN_ATTEMPTS = 2\n",
    "\n",
    "## Group by down/distance\n",
    "rusher_carries = run_data.groupby(['rusher_player_name', 'Down & Distance']).aggregate(\n",
    "    Attempts=('rusher_player_name', 'size'),\n",
    "    Successes=('Successful Play', 'sum'),\n",
    "    player_id=('rusher_player_id', 'first'),\n",
    ").reset_index()\n",
    "rusher_carries['Success Rate'] = rusher_carries['Successes'] / rusher_carries['Attempts']\n",
    "\n",
    "## Pivot\n",
    "DOWNS = ['1st', '2nd & Short', '2nd & Medium', '2nd & Long', \n",
    "       '3rd & Short', '3rd & Medium', '3rd & Long', '4th & Short', '4th & Medium']\n",
    "col_sort = pd.MultiIndex.from_product([DOWNS, ['Successes', 'Attempts', 'Success Rate']])\n",
    "\n",
    "piv = rusher_carries.loc[(rusher_carries['Down & Distance'] != ''),:].pivot(\n",
    "        index='rusher_player_name',\n",
    "        columns=['Down & Distance'],\n",
    "        values=['Attempts', 'Successes', 'Success Rate']\n",
    "    )\\\n",
    "    .swaplevel(0, 1, axis=1).sort_index(axis=1).reset_index().set_index('rusher_player_name')\\\n",
    "    .reindex(columns=col_sort)\n",
    "\n",
    "print(piv.to_string())\n",
    "\n",
    "## Visualize Success Rate\n",
    "\n",
    "# Filter to success rate\n",
    "idx = pd.IndexSlice\n",
    "sl = pd.DataFrame(piv.loc[:, idx[:, ('Success Rate')]])\n",
    "sl.columns = sl.columns.get_level_values(0)\n",
    "\n",
    "# Merge in total attempts\n",
    "sl = sl.merge(\n",
    "        by_player.reset_index().set_index('rusher_player_name')['Attempts'], \n",
    "        right_index=True,\n",
    "        left_index=True,\n",
    "        how='left'\n",
    "    ).sort_values(by='Attempts', ascending=False)\\\n",
    "    .reset_index().set_index('rusher_player_name')\n",
    "# piv = piv.set_index('rusher_player_name')\n",
    "print(sl.to_string())\n",
    "\n",
    "# Create annotations\n",
    "annot_df = sl.copy() # Initialize with data, convert to string\n",
    "for r in annot_df.index:\n",
    "    print(r)\n",
    "    for c in piv.columns.get_level_values(0).unique():\n",
    "        attempts = piv.loc[r, (c, 'Attempts')]\n",
    "        if pd.isna(attempts):\n",
    "            annot_df.loc[r,c] = ''\n",
    "        else:\n",
    "            annot_df.loc[r, c] = f\"{piv.loc[r, (c, 'Success Rate')]*100:,.1f}%<br>({piv.loc[r,(c, 'Successes')]:,.0f} / {attempts:,.0f})\"\n",
    "\n",
    "# print(annot_df.head().to_string())\n",
    "# print(sl.head().to_string())\n",
    "# print(sl.index)\n",
    "\n",
    "# Heatmap\n",
    "\n",
    "# fig = go.Figure()\n",
    "\n",
    "cols = [col.replace(' ', '<br>') for col in sl.columns.get_level_values(0).drop('Attempts')]\n",
    "\n",
    "fig = heat_map(\n",
    "    x=cols,\n",
    "    y=sl.index,\n",
    "    z=sl.values.tolist(),\n",
    "    text=annot_df.values.tolist(),\n",
    "    title=f'Rushing <span style=\"color: #006D2C\">Success Rate</span> by Down & Distance<br><sup>NFL Week {WEEK}: {AWAY_TEAM} @ {HOME_TEAM}</sup>',\n",
    "    color_name='Success Rate'\n",
    ")\n",
    "fig.update_layout(\n",
    "    margin=dict(t=100, l=100, r=100, b=50),\n",
    "    width=900,\n",
    "    height=500\n",
    ")\n",
    "fig.update_annotations(y=-.1)\n",
    "\n",
    "# headshots = rusher_carries['Headshot'].tolist()\n",
    "# n_players = len(headshots)\n",
    "# for i in range(n_players):\n",
    "#     response = requests.get(headshots[i])\n",
    "#     headshot = Image.open(BytesIO(response.content))\n",
    "#     fig.add_layout_image(\n",
    "#         x=-.135,\n",
    "#         # y=(1-(1/n_players))-((1/n_players)*i),\n",
    "#         y=1.01-((1/n_players)*i),\n",
    "#         sizex=1/n_players,\n",
    "#         sizey=1/n_players,\n",
    "#         xanchor='center',\n",
    "#         yanchor='top',\n",
    "#         xref='paper', \n",
    "#         yref='paper',\n",
    "#         source=headshot,\n",
    "#     )\n",
    "\n",
    "fig.show()\n",
    "\n",
    "# pio.write_image(fig, \"Success Rate by Down & Distance - Colts vs. Rams.png\", height=500, width=900, scale=6)"
   ]
  },
  {
   "cell_type": "markdown",
   "id": "ce90bd9f",
   "metadata": {},
   "source": [
    "## Passing"
   ]
  },
  {
   "cell_type": "code",
   "execution_count": 81,
   "id": "c08a27d4",
   "metadata": {},
   "outputs": [],
   "source": [
    "''' Passing '''\n",
    "\n",
    "pass_data = game_data.loc[game_data['play_type_nfl'] == 'PASS', :]\n",
    "# pass_data = pbp_data.loc[(pbp_data['play_type'] == 'pass') | (pbp_data['play_type'] == 'qb_spike'), :]"
   ]
  },
  {
   "cell_type": "code",
   "execution_count": 82,
   "id": "a672ab28",
   "metadata": {},
   "outputs": [
    {
     "name": "stdout",
     "output_type": "stream",
     "text": [
      "                   Attempts  Yards  TDs  FirstDowns  Successes  Sacks  Yds / Att  Success Rate    1D Rate  TD Rate\n",
      "posteam game_half                                                                                                 \n",
      "IND     Half1          19.0  146.0  1.0         9.0         10    0.0       7.68         52.63  47.369999     5.26\n",
      "        Half2          12.0  126.0  2.0         5.0          6    0.0      10.50         50.00  41.669998    16.67\n",
      "        Total          31.0  272.0  3.0        14.0         16    0.0       8.77         51.61  45.160000     9.68\n",
      "TEN     Half1          12.0  109.0  1.0         6.0          6    0.0       9.08         50.00  50.000000     8.33\n",
      "        Half2          24.0  150.0  0.0         7.0         12    0.0       6.25         50.00  29.170000     0.00\n",
      "        Total          36.0  259.0  1.0        13.0         18    0.0       7.19         50.00  36.110001     2.78\n"
     ]
    }
   ],
   "source": [
    "''' Team Passing '''\n",
    "# NOTE - Team passing includes sacks, both attempts and yards\n",
    "\n",
    "by_team = pass_data.groupby(['posteam', 'game_half']).aggregate(\n",
    "    Attempts=('pass_attempt', 'sum'),\n",
    "    Yards=('yards_gained', 'sum'),\n",
    "    TDs=('touchdown', 'sum'),\n",
    "    FirstDowns=('first_down', 'sum'),\n",
    "    Successes=('Successful Play', 'sum'),\n",
    "    Sacks=('sack', 'sum')\n",
    ")\n",
    "totals = by_team.groupby(['posteam']).sum()\n",
    "totals.index = pd.MultiIndex.from_tuples([(i, 'Total') for i in totals.index])\n",
    "by_team = pd.concat([by_team, totals]).sort_index()\n",
    "\n",
    "by_team['Yds / Att'] = round(by_team['Yards'] / by_team['Attempts'], 2)\n",
    "by_team['Success Rate'] = round((by_team['Successes'] / by_team['Attempts']) * 100, 2)\n",
    "by_team['1D Rate'] = round((by_team['FirstDowns'] / by_team['Attempts']) * 100, 2)\n",
    "by_team['TD Rate'] = round((by_team['TDs'] / by_team['Attempts']) * 100, 2)\n",
    "\n",
    "print(by_team.to_string())"
   ]
  },
  {
   "cell_type": "code",
   "execution_count": 83,
   "id": "039b6506",
   "metadata": {},
   "outputs": [
    {
     "name": "stdout",
     "output_type": "stream",
     "text": [
      "                            Completions  Attempts  Yards  TDs  Ints  FirstDowns  Successes  Sacks  SackYards  Yds / Att  Success Rate    1D Rate  TD Rate\n",
      "posteam passer_player_name                                                                                                                               \n",
      "TEN     C.Ward                     22.0      36.0  259.0  1.0   0.0        13.0         18    0.0        0.0       7.19         50.00  36.110001     2.78\n",
      "IND     D.Jones                    21.0      29.0  272.0  3.0   0.0        14.0         16    0.0        0.0       9.38         55.17  48.279999    10.34\n",
      "        R.Leonard                   0.0       2.0    0.0  0.0   0.0         0.0          0    0.0        0.0       0.00          0.00   0.000000     0.00\n"
     ]
    }
   ],
   "source": [
    "''' Passing - QBs '''\n",
    "# NOTE - Player passing does NOT include sacks, but success rate denominator is Attempts + Sacks\n",
    "\n",
    "# Group by\n",
    "by_player = pass_data.loc[pass_data['sack'] != 1,:].groupby(['posteam', 'passer_player_name']).aggregate(\n",
    "    Completions=('complete_pass', 'sum'),\n",
    "    Attempts=('pass_attempt', 'sum'),\n",
    "    Yards=('yards_gained', 'sum'),\n",
    "    TDs=('touchdown', 'sum'),\n",
    "    Ints=('interception', 'sum'),\n",
    "    FirstDowns=('first_down', 'sum'),\n",
    "    Successes=('Successful Play', 'sum')\n",
    ")\n",
    "by_player = by_player.sort_values(by=['posteam', 'Attempts'], ascending=False)\n",
    "\n",
    "# Add sack data\n",
    "player_sacks = pass_data.loc[pass_data['sack'] == 1, :].groupby(['posteam', 'passer_player_name']).aggregate(Sacks=('sack', 'sum'), SackYards=('yards_gained', 'sum'))\n",
    "player_sacks['SackYards'] = abs(player_sacks['SackYards'])\n",
    "by_player = by_player.merge(player_sacks, left_index=True, right_index=True, how='left').fillna(0)\n",
    "\n",
    "by_player['Yds / Att'] = round(by_player['Yards'] / by_player['Attempts'], 2)\n",
    "by_player['Success Rate'] = round((by_player['Successes'] / (by_player['Attempts'] + by_player['Sacks'])) * 100, 2)\n",
    "by_player['1D Rate'] = round((by_player['FirstDowns'] / by_player['Attempts']) * 100, 2)\n",
    "by_player['TD Rate'] = round((by_player['TDs'] / by_player['Attempts']) * 100, 2)\n",
    "\n",
    "print(by_player.to_string())"
   ]
  },
  {
   "cell_type": "markdown",
   "id": "555fcb2d",
   "metadata": {},
   "source": [
    "## Receiving"
   ]
  },
  {
   "cell_type": "code",
   "execution_count": 84,
   "id": "9c6bb069",
   "metadata": {},
   "outputs": [
    {
     "name": "stdout",
     "output_type": "stream",
     "text": [
      "                              Targets  Receptions  Yards  TDs  FirstDowns  Successes  Yds / Rec  Success Rate  1D Rate  TD Rate\n",
      "posteam receiver_player_name                                                                                                   \n",
      "TEN     E.Ayomanor                  8         4.0   52.0  0.0         2.0          3      13.00         37.50    25.00     0.00\n",
      "        V.Jefferson                 8         1.0    6.0  0.0         0.0          1       6.00         12.50     0.00     0.00\n",
      "        C.Dike                      7         7.0   93.0  0.0         5.0          6      13.29         85.71    71.43     0.00\n",
      "        C.Okonkwo                   5         4.0   53.0  0.0         2.0          4      13.25         80.00    40.00     0.00\n",
      "        G.Helm                      3         2.0   23.0  1.0         2.0          2      11.50         66.67    66.67    33.33\n",
      "        T.Spears                    3         3.0   23.0  0.0         1.0          1       7.67         33.33    33.33     0.00\n",
      "        T.Pollard                   2         1.0    9.0  0.0         1.0          1       9.00         50.00    50.00     0.00\n",
      "IND     M.Pittman                   9         8.0   95.0  1.0         5.0          7      11.88         77.78    55.56    11.11\n",
      "        A.Pierce                    5         2.0   69.0  0.0         2.0          2      34.50         40.00    40.00     0.00\n",
      "        T.Warren                    5         4.0   53.0  0.0         3.0          3      13.25         60.00    60.00     0.00\n",
      "        J.Downs                     3         3.0   39.0  1.0         3.0          3      13.00        100.00   100.00    33.33\n",
      "        J.Taylor                    2         2.0   21.0  1.0         1.0          1      10.50         50.00    50.00    50.00\n",
      "        A.Abdullah                  1         1.0    3.0  0.0         0.0          0       3.00          0.00     0.00     0.00\n",
      "        A.Dulin                     1         1.0   -8.0  0.0         0.0          0      -8.00          0.00     0.00     0.00\n",
      "        A.Mitchell                  1         0.0    0.0  0.0         0.0          0        NaN          0.00     0.00     0.00\n",
      "        A.Ogletree                  1         0.0    0.0  0.0         0.0          0        NaN          0.00     0.00     0.00\n"
     ]
    }
   ],
   "source": [
    "''' Receiving '''\n",
    "# NOTE - \n",
    "\n",
    "by_player = pass_data.groupby(['posteam', 'receiver_player_name']).aggregate(\n",
    "    Targets=('receiver_player_name', 'size'),\n",
    "    Receptions=('complete_pass', 'sum'),\n",
    "    Yards=('yards_gained', 'sum'),\n",
    "    TDs=('touchdown', 'sum'),\n",
    "    FirstDowns=('first_down', 'sum'),\n",
    "    Successes=('Successful Play', 'sum')\n",
    ").sort_values(by=['posteam', 'Targets'], ascending=False)\n",
    "\n",
    "by_player['Yds / Rec'] = round(by_player['Yards'] / by_player['Receptions'], 2)\n",
    "by_player['Success Rate'] = round((by_player['Successes'] / by_player['Targets']) * 100, 2)\n",
    "by_player['1D Rate'] = round((by_player['FirstDowns'] / by_player['Targets']) * 100, 2)\n",
    "by_player['TD Rate'] = round((by_player['TDs'] / by_player['Targets']) * 100, 2)\n",
    "\n",
    "print(by_player.to_string())"
   ]
  },
  {
   "cell_type": "code",
   "execution_count": 85,
   "id": "16a26494",
   "metadata": {},
   "outputs": [
    {
     "name": "stdout",
     "output_type": "stream",
     "text": [
      "                           1st                      2nd & Short                      2nd & Medium                      2nd & Long                      3rd & Short                      3rd & Medium                      3rd & Long                      4th & Short                      4th & Medium                     \n",
      "                     Successes Targets Success Rate   Successes Targets Success Rate    Successes Targets Success Rate  Successes Targets Success Rate   Successes Targets Success Rate    Successes Targets Success Rate  Successes Targets Success Rate   Successes Targets Success Rate    Successes Targets Success Rate\n",
      "receiver_player_name                                                                                                                                                                                                                                                                                                        \n",
      "A.Abdullah                 0.0     1.0     0.000000         NaN     NaN          NaN          NaN     NaN          NaN        NaN     NaN          NaN         NaN     NaN          NaN          NaN     NaN          NaN        NaN     NaN          NaN         NaN     NaN          NaN          NaN     NaN          NaN\n",
      "A.Dulin                    0.0     1.0     0.000000         NaN     NaN          NaN          NaN     NaN          NaN        NaN     NaN          NaN         NaN     NaN          NaN          NaN     NaN          NaN        NaN     NaN          NaN         NaN     NaN          NaN          NaN     NaN          NaN\n",
      "A.Mitchell                 NaN     NaN          NaN         NaN     NaN          NaN          NaN     NaN          NaN        NaN     NaN          NaN         NaN     NaN          NaN          NaN     NaN          NaN        0.0     1.0          0.0         NaN     NaN          NaN          NaN     NaN          NaN\n",
      "A.Ogletree                 NaN     NaN          NaN         NaN     NaN          NaN          NaN     NaN          NaN        NaN     NaN          NaN         NaN     NaN          NaN          NaN     NaN          NaN        0.0     1.0          0.0         NaN     NaN          NaN          NaN     NaN          NaN\n",
      "A.Pierce                   1.0     2.0     0.500000         NaN     NaN          NaN          NaN     NaN          NaN        0.0     1.0     0.000000         0.0     1.0          0.0          NaN     NaN          NaN        1.0     1.0          1.0         NaN     NaN          NaN          NaN     NaN          NaN\n",
      "C.Dike                     1.0     1.0     1.000000         NaN     NaN          NaN          1.0     1.0          1.0        1.0     1.0     1.000000         NaN     NaN          NaN          2.0     2.0          1.0        1.0     2.0          0.5         NaN     NaN          NaN          NaN     NaN          NaN\n",
      "C.Okonkwo                  2.0     2.0     1.000000         NaN     NaN          NaN          NaN     NaN          NaN        2.0     3.0     0.666667         NaN     NaN          NaN          NaN     NaN          NaN        NaN     NaN          NaN         NaN     NaN          NaN          NaN     NaN          NaN\n",
      "E.Ayomanor                 2.0     3.0     0.666667         NaN     NaN          NaN          0.0     1.0          0.0        1.0     2.0     0.500000         0.0     1.0          0.0          NaN     NaN          NaN        0.0     1.0          0.0         NaN     NaN          NaN          NaN     NaN          NaN\n",
      "G.Helm                     1.0     1.0     1.000000         NaN     NaN          NaN          NaN     NaN          NaN        1.0     2.0     0.500000         NaN     NaN          NaN          NaN     NaN          NaN        NaN     NaN          NaN         NaN     NaN          NaN          NaN     NaN          NaN\n",
      "J.Downs                    NaN     NaN          NaN         NaN     NaN          NaN          NaN     NaN          NaN        2.0     2.0     1.000000         NaN     NaN          NaN          NaN     NaN          NaN        1.0     1.0          1.0         NaN     NaN          NaN          NaN     NaN          NaN\n",
      "J.Taylor                   1.0     2.0     0.500000         NaN     NaN          NaN          NaN     NaN          NaN        NaN     NaN          NaN         NaN     NaN          NaN          NaN     NaN          NaN        NaN     NaN          NaN         NaN     NaN          NaN          NaN     NaN          NaN\n",
      "M.Pittman                  3.0     4.0     0.750000         NaN     NaN          NaN          1.0     1.0          1.0        3.0     3.0     1.000000         NaN     NaN          NaN          NaN     NaN          NaN        0.0     1.0          0.0         NaN     NaN          NaN          NaN     NaN          NaN\n",
      "T.Pollard                  NaN     NaN          NaN         NaN     NaN          NaN          NaN     NaN          NaN        NaN     NaN          NaN         NaN     NaN          NaN          1.0     2.0          0.5        NaN     NaN          NaN         NaN     NaN          NaN          NaN     NaN          NaN\n",
      "T.Spears                   0.0     1.0     0.000000         NaN     NaN          NaN          NaN     NaN          NaN        1.0     2.0     0.500000         NaN     NaN          NaN          NaN     NaN          NaN        NaN     NaN          NaN         NaN     NaN          NaN          NaN     NaN          NaN\n",
      "T.Warren                   2.0     3.0     0.666667         NaN     NaN          NaN          NaN     NaN          NaN        1.0     2.0     0.500000         NaN     NaN          NaN          NaN     NaN          NaN        NaN     NaN          NaN         NaN     NaN          NaN          NaN     NaN          NaN\n",
      "V.Jefferson                0.0     2.0     0.000000         0.0     1.0          0.0          0.0     1.0          0.0        1.0     2.0     0.500000         NaN     NaN          NaN          0.0     2.0          0.0        NaN     NaN          NaN         NaN     NaN          NaN          NaN     NaN          NaN\n"
     ]
    },
    {
     "data": {
      "application/vnd.plotly.v1+json": {
       "config": {
        "plotlyServerURL": "https://plot.ly"
       },
       "data": [
        {
         "colorbar": {
          "tickformat": "0.0%",
          "title": {
           "font": {
            "weight": "bold"
           },
           "side": "right",
           "text": "Success Rate"
          }
         },
         "colorscale": [
          [
           0,
           "rgb(247,252,245)"
          ],
          [
           0.125,
           "rgb(229,245,224)"
          ],
          [
           0.25,
           "rgb(199,233,192)"
          ],
          [
           0.375,
           "rgb(161,217,155)"
          ],
          [
           0.5,
           "rgb(116,196,118)"
          ],
          [
           0.625,
           "rgb(65,171,93)"
          ],
          [
           0.75,
           "rgb(35,139,69)"
          ],
          [
           0.875,
           "rgb(0,109,44)"
          ],
          [
           1,
           "rgb(0,68,27)"
          ]
         ],
         "text": [
          [
           "75.0%<br>(3 / 4)",
           "",
           "100.0%<br>(1 / 1)",
           "100.0%<br>(3 / 3)",
           "",
           "",
           "0.0%<br>(0 / 1)",
           "",
           "",
           9
          ],
          [
           "66.7%<br>(2 / 3)",
           "",
           "0.0%<br>(0 / 1)",
           "50.0%<br>(1 / 2)",
           "0.0%<br>(0 / 1)",
           "",
           "0.0%<br>(0 / 1)",
           "",
           "",
           8
          ],
          [
           "0.0%<br>(0 / 2)",
           "0.0%<br>(0 / 1)",
           "0.0%<br>(0 / 1)",
           "50.0%<br>(1 / 2)",
           "",
           "0.0%<br>(0 / 2)",
           "",
           "",
           "",
           8
          ],
          [
           "100.0%<br>(1 / 1)",
           "",
           "100.0%<br>(1 / 1)",
           "100.0%<br>(1 / 1)",
           "",
           "100.0%<br>(2 / 2)",
           "50.0%<br>(1 / 2)",
           "",
           "",
           7
          ],
          [
           "50.0%<br>(1 / 2)",
           "",
           "",
           "0.0%<br>(0 / 1)",
           "0.0%<br>(0 / 1)",
           "",
           "100.0%<br>(1 / 1)",
           "",
           "",
           5
          ],
          [
           "100.0%<br>(2 / 2)",
           "",
           "",
           "66.7%<br>(2 / 3)",
           "",
           "",
           "",
           "",
           "",
           5
          ],
          [
           "66.7%<br>(2 / 3)",
           "",
           "",
           "50.0%<br>(1 / 2)",
           "",
           "",
           "",
           "",
           "",
           5
          ],
          [
           "100.0%<br>(1 / 1)",
           "",
           "",
           "50.0%<br>(1 / 2)",
           "",
           "",
           "",
           "",
           "",
           3
          ],
          [
           "",
           "",
           "",
           "100.0%<br>(2 / 2)",
           "",
           "",
           "100.0%<br>(1 / 1)",
           "",
           "",
           3
          ],
          [
           "0.0%<br>(0 / 1)",
           "",
           "",
           "50.0%<br>(1 / 2)",
           "",
           "",
           "",
           "",
           "",
           3
          ],
          [
           "50.0%<br>(1 / 2)",
           "",
           "",
           "",
           "",
           "",
           "",
           "",
           "",
           2
          ],
          [
           "",
           "",
           "",
           "",
           "",
           "50.0%<br>(1 / 2)",
           "",
           "",
           "",
           2
          ],
          [
           "0.0%<br>(0 / 1)",
           "",
           "",
           "",
           "",
           "",
           "",
           "",
           "",
           1
          ],
          [
           "0.0%<br>(0 / 1)",
           "",
           "",
           "",
           "",
           "",
           "",
           "",
           "",
           1
          ],
          [
           "",
           "",
           "",
           "",
           "",
           "",
           "0.0%<br>(0 / 1)",
           "",
           "",
           1
          ],
          [
           "",
           "",
           "",
           "",
           "",
           "",
           "0.0%<br>(0 / 1)",
           "",
           "",
           1
          ]
         ],
         "textfont": {
          "size": 10
         },
         "texttemplate": "%{text}",
         "type": "heatmap",
         "x": [
          "1st",
          "2nd<br>&<br>Short",
          "2nd<br>&<br>Medium",
          "2nd<br>&<br>Long",
          "3rd<br>&<br>Short",
          "3rd<br>&<br>Medium",
          "3rd<br>&<br>Long",
          "4th<br>&<br>Short",
          "4th<br>&<br>Medium"
         ],
         "xgap": 1,
         "y": [
          "M.Pittman",
          "E.Ayomanor",
          "V.Jefferson",
          "C.Dike",
          "A.Pierce",
          "C.Okonkwo",
          "T.Warren",
          "G.Helm",
          "J.Downs",
          "T.Spears",
          "J.Taylor",
          "T.Pollard",
          "A.Abdullah",
          "A.Dulin",
          "A.Mitchell",
          "A.Ogletree"
         ],
         "ygap": 1,
         "z": [
          [
           0.75,
           null,
           1,
           1,
           null,
           null,
           0,
           null,
           null,
           9
          ],
          [
           0.6666666666666666,
           null,
           0,
           0.5,
           0,
           null,
           0,
           null,
           null,
           8
          ],
          [
           0,
           0,
           0,
           0.5,
           null,
           0,
           null,
           null,
           null,
           8
          ],
          [
           1,
           null,
           1,
           1,
           null,
           1,
           0.5,
           null,
           null,
           7
          ],
          [
           0.5,
           null,
           null,
           0,
           0,
           null,
           1,
           null,
           null,
           5
          ],
          [
           1,
           null,
           null,
           0.6666666666666666,
           null,
           null,
           null,
           null,
           null,
           5
          ],
          [
           0.6666666666666666,
           null,
           null,
           0.5,
           null,
           null,
           null,
           null,
           null,
           5
          ],
          [
           1,
           null,
           null,
           0.5,
           null,
           null,
           null,
           null,
           null,
           3
          ],
          [
           null,
           null,
           null,
           1,
           null,
           null,
           1,
           null,
           null,
           3
          ],
          [
           0,
           null,
           null,
           0.5,
           null,
           null,
           null,
           null,
           null,
           3
          ],
          [
           0.5,
           null,
           null,
           null,
           null,
           null,
           null,
           null,
           null,
           2
          ],
          [
           null,
           null,
           null,
           null,
           null,
           0.5,
           null,
           null,
           null,
           2
          ],
          [
           0,
           null,
           null,
           null,
           null,
           null,
           null,
           null,
           null,
           1
          ],
          [
           0,
           null,
           null,
           null,
           null,
           null,
           null,
           null,
           null,
           1
          ],
          [
           null,
           null,
           null,
           null,
           null,
           null,
           0,
           null,
           null,
           1
          ],
          [
           null,
           null,
           null,
           null,
           null,
           null,
           0,
           null,
           null,
           1
          ]
         ]
        }
       ],
       "layout": {
        "annotations": [
         {
          "align": "left",
          "showarrow": false,
          "text": "Figure: @clankeranalytic | Data: nfl_data_py | 2025-10-28",
          "x": 1,
          "xref": "paper",
          "y": -0.15,
          "yref": "paper"
         }
        ],
        "height": 900,
        "template": {
         "data": {
          "bar": [
           {
            "marker": {
             "line": {
              "color": "#ffffff",
              "width": 1
             }
            },
            "type": "bar"
           }
          ],
          "scatter": [
           {
            "marker": {
             "size": 8,
             "symbol": "circle"
            },
            "type": "scatter"
           },
           {
            "line": {
             "width": 2
            },
            "type": "scatter"
           }
          ]
         },
         "layout": {
          "colorway": [
           "#636efa",
           "#ef553b",
           "#00cc96",
           "#ab63fa",
           "#ffa15a"
          ],
          "font": {
           "color": "#000000",
           "family": "Helvetica",
           "size": 10
          },
          "height": 500,
          "margin": {
           "b": 50,
           "l": 50,
           "r": 50,
           "t": 75
          },
          "paper_bgcolor": "#f0f0f0",
          "plot_bgcolor": "rgba(0,0,0,0)",
          "title": {
           "font": {
            "color": "#1a1a1a",
            "size": 18,
            "weight": "bold"
           },
           "x": 0.07,
           "xref": "container",
           "y": 0.95,
           "yref": "container"
          },
          "width": 900,
          "xaxis": {
           "gridcolor": "#d1d1d1",
           "griddash": "solid",
           "gridwidth": 1,
           "linecolor": "#d1d1d1",
           "tickcolor": "#d1d1d1",
           "ticks": "",
           "title": {
            "font": {
             "weight": "bold"
            },
            "standoff": 5
           },
           "zeroline": false
          },
          "yaxis": {
           "gridcolor": "#d1d1d1",
           "griddash": "solid",
           "gridwidth": 1,
           "linecolor": "#d1d1d1",
           "tickcolor": "#d1d1d1",
           "ticks": "",
           "title": {
            "font": {
             "weight": "bold"
            },
            "standoff": 5
           },
           "zeroline": false
          }
         }
        },
        "title": {
         "text": "Receiving <span style=\"color: #006D2C\">Success Rate</span> by Down & Distance<br><sup>NFL Week 8: TEN @ IND</sup>"
        },
        "width": 900,
        "xaxis": {
         "side": "top",
         "tickfont": {
          "textcase": "upper"
         }
        },
        "yaxis": {
         "autorange": "reversed",
         "categoryorder": "array",
         "tickfont": {
          "textcase": "upper"
         },
         "tickformat": ".0%"
        }
       }
      }
     },
     "metadata": {},
     "output_type": "display_data"
    }
   ],
   "source": [
    "''' Receiving by Down / Distance '''\n",
    "\n",
    "DOWN_COL = 'Down & Distance' #'down'\n",
    "\n",
    "## Group by down/distance\n",
    "receiver_targets = pass_data.groupby(['receiver_player_name', DOWN_COL]).aggregate(\n",
    "    Targets=('receiver_player_name', 'size'),\n",
    "    Successes=('Successful Play', 'sum')\n",
    ").reset_index()\n",
    "receiver_targets['Success Rate'] = receiver_targets['Successes'] / receiver_targets['Targets']\n",
    "\n",
    "# receiver_targets = receiver_targets.loc[receiver_targets['Targets'] > 1, :]\n",
    "\n",
    "## Pivot\n",
    "DOWNS = [1,2,3,4]\n",
    "DOWNS_SUBGROUP = ['1st', '2nd & Short', '2nd & Medium', '2nd & Long', \n",
    "       '3rd & Short', '3rd & Medium', '3rd & Long', '4th & Short', '4th & Medium']\n",
    "col_sort = pd.MultiIndex.from_product([DOWNS_SUBGROUP, ['Successes', 'Targets', 'Success Rate']])\n",
    "\n",
    "piv = receiver_targets.loc[(receiver_targets[DOWN_COL] != ''),:].pivot(\n",
    "        index='receiver_player_name',\n",
    "        columns=[DOWN_COL],\n",
    "        values=['Targets', 'Successes', 'Success Rate']\n",
    "    )\\\n",
    "    .swaplevel(0, 1, axis=1).sort_index(axis=1).reset_index().set_index('receiver_player_name')\\\n",
    "    .reindex(columns=col_sort)\n",
    "\n",
    "print(piv.to_string())\n",
    "\n",
    "## Visualize Success Rate\n",
    "\n",
    "# Filter to success rate\n",
    "idx = pd.IndexSlice\n",
    "sl = pd.DataFrame(piv.loc[:, idx[:, ('Success Rate')]])\n",
    "sl.columns = sl.columns.get_level_values(0)\n",
    "\n",
    "# Merge in total Targets\n",
    "sl = sl.merge(\n",
    "        by_player.reset_index().set_index('receiver_player_name')['Targets'], \n",
    "        right_index=True,\n",
    "        left_index=True,\n",
    "        how='left'\n",
    "    ).sort_values(by='Targets', ascending=False)\\\n",
    "    .reset_index().set_index('receiver_player_name')\n",
    "# piv = piv.set_index('receiver_player_name')\n",
    "# print(piv.to_string())\n",
    "\n",
    "# Create annotations\n",
    "annot_df = sl.copy() # Initialize with data, convert to string\n",
    "for r in annot_df.index:\n",
    "    for c in piv.columns.get_level_values(0).unique():\n",
    "        targets = piv.loc[r,(c, 'Targets')]\n",
    "        if pd.isna(targets):\n",
    "            annot_df.loc[r,c] = ''\n",
    "        else:\n",
    "            annot_df.loc[r, c] = f\"{piv.loc[r, (c, 'Success Rate')]*100:,.1f}%<br>({piv.loc[r,(c, 'Successes')]:,.0f} / {targets:,.0f})\"\n",
    "\n",
    "# print(annot_df.head().to_string())\n",
    "# print(sl.head().to_string())\n",
    "# print(sl.index)\n",
    "\n",
    "# Heatmap\n",
    "\n",
    "cols = [col.replace(' ', '<br>') for col in sl.columns.get_level_values(0).drop('Targets')]\n",
    "# cols = ['1st', '2nd', '3rd', '4th']\n",
    "\n",
    "fig = heat_map(\n",
    "    x=cols,\n",
    "    y=sl.index,\n",
    "    z=sl.values.tolist(),\n",
    "    text=annot_df.values.tolist(),\n",
    "    title=f'Receiving <span style=\"color: #006D2C\">Success Rate</span> by {DOWN_COL}<br><sup>NFL Week {WEEK}: {AWAY_TEAM} @ {HOME_TEAM}</sup>',\n",
    "    color_name='Success Rate'\n",
    ")\n",
    "fig.update_layout(\n",
    "    height=900\n",
    ")\n",
    "fig.show()\n",
    "\n",
    "# pio.write_image(fig, \"Success Rate by Down & Distance - Colts vs. Rams.png\", scale=6)\n"
   ]
  },
  {
   "cell_type": "markdown",
   "id": "8a7102bd",
   "metadata": {},
   "source": [
    "## EPA"
   ]
  },
  {
   "cell_type": "code",
   "execution_count": 86,
   "id": "2362b924",
   "metadata": {},
   "outputs": [
    {
     "name": "stdout",
     "output_type": "stream",
     "text": [
      "posteam\n",
      "IND    19.897320\n",
      "TEN    -8.311419\n",
      "Name: epa, dtype: float32\n",
      "                     Plays         ep        epa  EPA / Play\n",
      "posteam play_type                                           \n",
      "IND     extra_point      5   4.657144   0.342857    0.068571\n",
      "        field_goal       1   2.150450   0.849550    0.849550\n",
      "        kickoff          3   4.185029   0.437633    0.145878\n",
      "        no_play          1   2.011646  -1.522343   -1.522343\n",
      "        pass            34  86.031448  11.726611    0.344900\n",
      "        punt             4  -3.040758  -0.050828   -0.012707\n",
      "        run             18  34.533447   8.113840    0.450769\n",
      "TEN     extra_point      2   1.862857   0.137143    0.068571\n",
      "        field_goal       1   1.626989  -1.949176   -1.949176\n",
      "        kickoff          7   7.709158  -0.099621   -0.014232\n",
      "        no_play          3   2.118842   3.248645    1.082882\n",
      "        pass            41  75.061142  -8.368195   -0.204102\n",
      "        punt             5  -2.842280  -3.875555   -0.775111\n",
      "        run             25  55.304371   2.595340    0.103814\n"
     ]
    }
   ],
   "source": [
    "''' EPA by Play Type '''\n",
    "\n",
    "epa_summary = game_data.groupby(['posteam', 'play_type']).aggregate({\n",
    "    'posteam': 'size', \n",
    "    'ep': 'sum',\n",
    "    'epa': 'sum'\n",
    "}).rename(columns={'posteam': 'Plays'})\n",
    "epa_summary['EPA / Play'] = epa_summary['epa'] / epa_summary['Plays']\n",
    "\n",
    "print(epa_summary.groupby('posteam')['epa'].sum())\n",
    "print(epa_summary.to_string())"
   ]
  },
  {
   "cell_type": "code",
   "execution_count": 87,
   "id": "691771fb",
   "metadata": {},
   "outputs": [
    {
     "name": "stdout",
     "output_type": "stream",
     "text": [
      "               Plays  Start EP       epa  Drive End EP  Drive Exp. Pts  EPA / Play\n",
      "posteam drive                                                                     \n",
      "IND     1.0       11  1.592993  1.407007      3.000000        3.000000    0.127910\n",
      "        3.0        9  1.540722  5.527849      7.068571        7.068571    0.614205\n",
      "        5.0        8  1.472162  5.596409      7.068572        7.068572    0.699551\n",
      "        7.0        4  1.967553 -2.827820     -0.860267        0.000000   -0.706955\n",
      "        9.0        5  0.542682 -0.781268     -0.238586        0.000000   -0.156254\n",
      "        11.0       1  0.322187 -0.322187      0.000000        0.000000   -0.322187\n",
      "        13.0       2  1.113361  5.955210      7.068572        7.068572    2.977605\n",
      "        15.0      10  1.553515  5.515056      7.068572        7.068572    0.551506\n",
      "        17.0       7  3.220508  3.848063      7.068571        7.068571    0.549723\n",
      "        19.0       4  0.908393 -2.543533     -1.635140        0.000000   -0.635883\n",
      "        21.0       5  1.119874 -1.477465     -0.357592        0.000000   -0.295493\n",
      "TEN     2.0        9  1.186560 -2.727283     -1.540722        0.000000   -0.303031\n",
      "        4.0        8  1.170231  5.884279      7.054510        7.054510    0.735535\n",
      "        6.0        6  1.293442 -3.260996     -1.967553        0.000000   -0.543499\n",
      "        8.0        7  0.860267 -1.402949     -0.542682        0.000000   -0.200421\n",
      "        10.0       3  0.238586 -1.025607     -0.787021        0.000000   -0.341869\n",
      "        12.0       7  0.930688 -2.044049     -1.113362        0.000000   -0.292007\n",
      "        14.0       5  1.021296 -2.574811     -1.553515        0.000000   -0.514962\n",
      "        16.0      11  1.038285 -4.258793     -3.220508        0.000000   -0.387163\n",
      "        18.0      16  1.068656 -1.977049     -0.908393        0.000000   -0.123566\n",
      "        20.0      10  1.635140  5.433431      7.068572        7.068572    0.543343\n",
      "        22.0       2  0.357592 -0.357592      0.000000        0.000000   -0.178796\n",
      "posteam\n",
      "IND    38.342857\n",
      "TEN    14.123081\n",
      "Name: Drive Exp. Pts, dtype: float32\n"
     ]
    }
   ],
   "source": [
    "''' Drives EPA '''\n",
    "\n",
    "epa_summary = game_data.groupby(['posteam', 'drive']).aggregate({\n",
    "    'posteam': 'size', \n",
    "    'ep': 'first',\n",
    "    'epa': 'sum'\n",
    "}).rename(columns={'posteam': 'Plays', 'ep': 'Start EP'})\n",
    "epa_summary['Drive End EP'] = epa_summary['Start EP'] + epa_summary['epa']\n",
    "epa_summary['Drive Exp. Pts'] = np.where(epa_summary['Drive End EP'] < 0, 0, epa_summary['Drive End EP'])\n",
    "epa_summary['EPA / Play'] = epa_summary['epa'] / epa_summary['Plays']\n",
    "\n",
    "print(epa_summary.to_string())\n",
    "print(epa_summary.groupby('posteam')['Drive Exp. Pts'].sum())"
   ]
  },
  {
   "cell_type": "code",
   "execution_count": 88,
   "id": "f12cbccc",
   "metadata": {},
   "outputs": [
    {
     "name": "stdout",
     "output_type": "stream",
     "text": [
      "TEN\n",
      "Best plays:\n",
      "     epa  qtr  time  yrdln  down  ydstogo                                                                                                                                                                                                                                 desc\n",
      "4.529117  2.0 12:05 IND 42   3.0      6.0                                                                                                                                                  (12:05) (Shotgun) 2-T.Spears right end pushed ob at IND 1 for 41 yards (0-C.Bynum).\n",
      "3.846205  4.0 02:40  IND 3   4.0      2.0                                                                                                                                                                                (2:40) 2-T.Spears left tackle for 3 yards, TOUCHDOWN.\n",
      "3.186444  3.0 03:16 TEN 44   4.0      6.0 (3:16) (Shotgun) 1-C.Ward pass incomplete short middle to 11-V.Jefferson [97-L.Latu]. PENALTY on IND-23-K.Moore, Defensive Holding, 5 yards, enforced at TEN 44 - No Play. Penalty on IND-35-J.Edwards, Defensive Holding, declined.\n",
      "2.750475  1.0 08:48 TEN 15   3.0     10.0                                                                                                                                      (8:48) (Shotgun) 1-C.Ward pass deep middle to 17-C.Dike to TEN 36 for 21 yards (29-M.Blackmon).\n",
      "2.022162  3.0 04:57 TEN 17   2.0     10.0                                                                                                                                      (4:57) (Shotgun) 1-C.Ward pass deep middle to 85-C.Okonkwo to TEN 40 for 23 yards (20-N.Cross).\n",
      "Worst plays:\n",
      "      epa  qtr  time  yrdln  down  ydstogo                                                                                                                desc\n",
      "-1.949176  2.0 00:06 IND 40   2.0     10.0                       (:06) 6-J.Slye 58 yard field goal is No Good, Wide Right, Center-46-M.Cox, Holder-3-J.Hekker.\n",
      "-2.089420  3.0 12:13 IND 42   3.0      3.0                                   (12:13) (Shotgun) 20-T.Pollard right tackle to IND 42 for no gain (90-G.Stewart).\n",
      "-2.190603  1.0 05:56 IND 49   3.0      6.0                   (5:56) (Shotgun) 1-C.Ward sacked at TEN 45 for -6 yards (sack split by 97-L.Latu and 23-K.Moore).\n",
      "-3.380831  3.0 01:41 IND 44   4.0      3.0                                            (1:41) (Shotgun) 1-C.Ward sacked at TEN 46 for -10 yards (99-D.Buckner).\n",
      "-3.568758  4.0 07:01 IND 16   4.0     16.0 (7:01) (Shotgun) 1-C.Ward pass deep middle intended for 17-C.Dike INTERCEPTED by 38-C.Lammons at IND -3. Touchback.\n",
      "IND\n",
      "Best plays:\n",
      "     epa  qtr  time  yrdln  down  ydstogo                                                                                                                                                         desc\n",
      "5.886639  3.0 11:22 IND 20   1.0     10.0                                                                                                     (11:22) 28-J.Taylor left tackle for 80 yards, TOUCHDOWN.\n",
      "4.885528  3.0 06:55 IND 38   3.0     13.0                                                              (6:55) (Shotgun) 17-D.Jones pass deep right to 14-A.Pierce to TEN 12 for 50 yards (39-D.Baker).\n",
      "2.869121  3.0 05:18 TEN 10   3.0      8.0                      (5:18) 17-D.Jones pass short right to 1-J.Downs for 10 yards, TOUCHDOWN. Penalty on TEN-18-J.Armour-Davis, Defensive Holding, declined.\n",
      "2.445928  2.0 07:51 TEN 21   1.0     10.0 (7:51) (Shotgun) 17-D.Jones pass deep left to 11-M.Pittman for 21 yards, TOUCHDOWN. Penalty on TEN-18-J.Armour-Davis, Defensive Pass Interference, declined.\n",
      "2.271499  3.0 09:02 IND 23   2.0     13.0                                                            (9:02) (Shotgun) 17-D.Jones pass short left to 11-M.Pittman to IND 41 for 18 yards (37-A.Hooker).\n",
      "Worst plays:\n",
      "      epa  qtr  time  yrdln  down  ydstogo                                                                                                                                                                               desc\n",
      "-1.341833  3.0 09:38 IND 26   1.0     10.0                                                                                                                   (9:38) 28-J.Taylor right end to IND 23 for -3 yards (33-C.Gray).\n",
      "-1.420727  3.0 00:16 TEN 37   3.0      1.0                                                                                                              (:16) (Shotgun) 17-D.Jones pass incomplete short left to 14-A.Pierce.\n",
      "-1.522343  3.0 07:25 IND 48   3.0      3.0 (7:25) (Shotgun) 28-J.Taylor left guard to TEN 44 for 8 yards (28-Q.Diggs; 50-C.Barton). PENALTY on IND-71-M.Goncalves, Offensive Holding, 10 yards, enforced at IND 48 - No Play.\n",
      "-1.639622  1.0 11:59 TEN 18   1.0     10.0                                                                                   (11:59) (Shotgun) 17-D.Jones pass short left to 16-A.Dulin to TEN 26 for -8 yards (50-C.Barton).\n",
      "-1.989471  2.0 06:05 IND 37   3.0     10.0                                                                                                         (6:05) (Shotgun) 17-D.Jones sacked at IND 28 for -9 yards (21-R.McCreary).\n"
     ]
    }
   ],
   "source": [
    "''' Best and Worst EPA Plays '''\n",
    "\n",
    "\n",
    "for side in ['away', 'home']:\n",
    "    col = 'home_team' if side == 'home' else 'away_team'\n",
    "    team = game_data.loc[game_data.first_valid_index(), col]\n",
    "    \n",
    "    plays = game_data.loc[game_data['posteam_type'] == side, ['epa', 'qtr', 'time', 'yrdln', 'down', 'ydstogo', 'desc']].sort_values(by='epa', ascending=False)\n",
    "\n",
    "    print(f'{team}')\n",
    "    print('Best plays:')\n",
    "    print(plays.head().to_string(index=False))\n",
    "    print('Worst plays:')\n",
    "    print(plays.tail().to_string(index=False))\n"
   ]
  }
 ],
 "metadata": {
  "kernelspec": {
   "display_name": "Python 3",
   "language": "python",
   "name": "python3"
  },
  "language_info": {
   "codemirror_mode": {
    "name": "ipython",
    "version": 3
   },
   "file_extension": ".py",
   "mimetype": "text/x-python",
   "name": "python",
   "nbconvert_exporter": "python",
   "pygments_lexer": "ipython3",
   "version": "3.11.2"
  }
 },
 "nbformat": 4,
 "nbformat_minor": 5
}
